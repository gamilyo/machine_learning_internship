{
 "cells": [
  {
   "cell_type": "code",
   "execution_count": 1,
   "metadata": {},
   "outputs": [],
   "source": [
    "import numpy as np\n",
    "import matplotlib.pyplot as plt\n",
    "import pandas as pd\n",
    "import seaborn as sns"
   ]
  },
  {
   "cell_type": "markdown",
   "metadata": {},
   "source": [
    "# dropping coloumns according to p Values and R2_adjusted"
   ]
  },
  {
   "cell_type": "code",
   "execution_count": 2,
   "metadata": {},
   "outputs": [
    {
     "data": {
      "text/html": [
       "<div>\n",
       "<style scoped>\n",
       "    .dataframe tbody tr th:only-of-type {\n",
       "        vertical-align: middle;\n",
       "    }\n",
       "\n",
       "    .dataframe tbody tr th {\n",
       "        vertical-align: top;\n",
       "    }\n",
       "\n",
       "    .dataframe thead th {\n",
       "        text-align: right;\n",
       "    }\n",
       "</style>\n",
       "<table border=\"1\" class=\"dataframe\">\n",
       "  <thead>\n",
       "    <tr style=\"text-align: right;\">\n",
       "      <th></th>\n",
       "      <th>R&amp;D Spend</th>\n",
       "      <th>Administration</th>\n",
       "      <th>Marketing Spend</th>\n",
       "      <th>State</th>\n",
       "      <th>Profit</th>\n",
       "    </tr>\n",
       "  </thead>\n",
       "  <tbody>\n",
       "    <tr>\n",
       "      <th>0</th>\n",
       "      <td>165349.20</td>\n",
       "      <td>136897.80</td>\n",
       "      <td>471784.10</td>\n",
       "      <td>New York</td>\n",
       "      <td>192261.83</td>\n",
       "    </tr>\n",
       "    <tr>\n",
       "      <th>1</th>\n",
       "      <td>162597.70</td>\n",
       "      <td>151377.59</td>\n",
       "      <td>443898.53</td>\n",
       "      <td>California</td>\n",
       "      <td>191792.06</td>\n",
       "    </tr>\n",
       "    <tr>\n",
       "      <th>2</th>\n",
       "      <td>153441.51</td>\n",
       "      <td>101145.55</td>\n",
       "      <td>407934.54</td>\n",
       "      <td>Florida</td>\n",
       "      <td>191050.39</td>\n",
       "    </tr>\n",
       "    <tr>\n",
       "      <th>3</th>\n",
       "      <td>144372.41</td>\n",
       "      <td>118671.85</td>\n",
       "      <td>383199.62</td>\n",
       "      <td>New York</td>\n",
       "      <td>182901.99</td>\n",
       "    </tr>\n",
       "    <tr>\n",
       "      <th>4</th>\n",
       "      <td>142107.34</td>\n",
       "      <td>91391.77</td>\n",
       "      <td>366168.42</td>\n",
       "      <td>Florida</td>\n",
       "      <td>166187.94</td>\n",
       "    </tr>\n",
       "  </tbody>\n",
       "</table>\n",
       "</div>"
      ],
      "text/plain": [
       "   R&D Spend  Administration  Marketing Spend       State     Profit\n",
       "0  165349.20       136897.80        471784.10    New York  192261.83\n",
       "1  162597.70       151377.59        443898.53  California  191792.06\n",
       "2  153441.51       101145.55        407934.54     Florida  191050.39\n",
       "3  144372.41       118671.85        383199.62    New York  182901.99\n",
       "4  142107.34        91391.77        366168.42     Florida  166187.94"
      ]
     },
     "execution_count": 2,
     "metadata": {},
     "output_type": "execute_result"
    }
   ],
   "source": [
    "dataset = pd.read_csv('50_Startups.csv',delimiter = \";\")\n",
    "dataset.head()"
   ]
  },
  {
   "cell_type": "code",
   "execution_count": 3,
   "metadata": {},
   "outputs": [
    {
     "name": "stdout",
     "output_type": "stream",
     "text": [
      "<class 'pandas.core.frame.DataFrame'>\n",
      "RangeIndex: 50 entries, 0 to 49\n",
      "Data columns (total 5 columns):\n",
      "R&D Spend          49 non-null float64\n",
      "Administration     49 non-null float64\n",
      "Marketing Spend    49 non-null float64\n",
      "State              50 non-null object\n",
      "Profit             50 non-null float64\n",
      "dtypes: float64(4), object(1)\n",
      "memory usage: 2.0+ KB\n"
     ]
    }
   ],
   "source": [
    "dataset.info()"
   ]
  },
  {
   "cell_type": "code",
   "execution_count": 4,
   "metadata": {},
   "outputs": [
    {
     "data": {
      "text/plain": [
       "<matplotlib.axes._subplots.AxesSubplot at 0x54363e3a20>"
      ]
     },
     "execution_count": 4,
     "metadata": {},
     "output_type": "execute_result"
    },
    {
     "data": {
      "image/png": "[encoded data removed]",
      "text/plain": [
       "<Figure size 432x288 with 1 Axes>"
      ]
     },
     "metadata": {
      "needs_background": "light"
     },
     "output_type": "display_data"
    }
   ],
   "source": [
    "dataset.plot.box()"
   ]
  },
  {
   "cell_type": "code",
   "execution_count": 5,
   "metadata": {},
   "outputs": [],
   "source": [
    "dataset = dataset.fillna(dataset.mean())"
   ]
  },
  {
   "cell_type": "code",
   "execution_count": 6,
   "metadata": {},
   "outputs": [
    {
     "name": "stdout",
     "output_type": "stream",
     "text": [
      "<class 'pandas.core.frame.DataFrame'>\n",
      "RangeIndex: 50 entries, 0 to 49\n",
      "Data columns (total 5 columns):\n",
      "R&D Spend          50 non-null float64\n",
      "Administration     50 non-null float64\n",
      "Marketing Spend    50 non-null float64\n",
      "State              50 non-null object\n",
      "Profit             50 non-null float64\n",
      "dtypes: float64(4), object(1)\n",
      "memory usage: 2.0+ KB\n"
     ]
    }
   ],
   "source": [
    "dataset.info()"
   ]
  },
  {
   "cell_type": "code",
   "execution_count": 7,
   "metadata": {},
   "outputs": [],
   "source": [
    "X = dataset.iloc[:,:-1]"
   ]
  },
  {
   "cell_type": "code",
   "execution_count": 8,
   "metadata": {},
   "outputs": [
    {
     "data": {
      "text/html": [
       "<div>\n",
       "<style scoped>\n",
       "    .dataframe tbody tr th:only-of-type {\n",
       "        vertical-align: middle;\n",
       "    }\n",
       "\n",
       "    .dataframe tbody tr th {\n",
       "        vertical-align: top;\n",
       "    }\n",
       "\n",
       "    .dataframe thead th {\n",
       "        text-align: right;\n",
       "    }\n",
       "</style>\n",
       "<table border=\"1\" class=\"dataframe\">\n",
       "  <thead>\n",
       "    <tr style=\"text-align: right;\">\n",
       "      <th></th>\n",
       "      <th>R&amp;D Spend</th>\n",
       "      <th>Administration</th>\n",
       "      <th>Marketing Spend</th>\n",
       "      <th>State</th>\n",
       "    </tr>\n",
       "  </thead>\n",
       "  <tbody>\n",
       "    <tr>\n",
       "      <th>0</th>\n",
       "      <td>165349.20</td>\n",
       "      <td>136897.80</td>\n",
       "      <td>471784.10</td>\n",
       "      <td>New York</td>\n",
       "    </tr>\n",
       "    <tr>\n",
       "      <th>1</th>\n",
       "      <td>162597.70</td>\n",
       "      <td>151377.59</td>\n",
       "      <td>443898.53</td>\n",
       "      <td>California</td>\n",
       "    </tr>\n",
       "    <tr>\n",
       "      <th>2</th>\n",
       "      <td>153441.51</td>\n",
       "      <td>101145.55</td>\n",
       "      <td>407934.54</td>\n",
       "      <td>Florida</td>\n",
       "    </tr>\n",
       "    <tr>\n",
       "      <th>3</th>\n",
       "      <td>144372.41</td>\n",
       "      <td>118671.85</td>\n",
       "      <td>383199.62</td>\n",
       "      <td>New York</td>\n",
       "    </tr>\n",
       "    <tr>\n",
       "      <th>4</th>\n",
       "      <td>142107.34</td>\n",
       "      <td>91391.77</td>\n",
       "      <td>366168.42</td>\n",
       "      <td>Florida</td>\n",
       "    </tr>\n",
       "  </tbody>\n",
       "</table>\n",
       "</div>"
      ],
      "text/plain": [
       "   R&D Spend  Administration  Marketing Spend       State\n",
       "0  165349.20       136897.80        471784.10    New York\n",
       "1  162597.70       151377.59        443898.53  California\n",
       "2  153441.51       101145.55        407934.54     Florida\n",
       "3  144372.41       118671.85        383199.62    New York\n",
       "4  142107.34        91391.77        366168.42     Florida"
      ]
     },
     "execution_count": 8,
     "metadata": {},
     "output_type": "execute_result"
    }
   ],
   "source": [
    "X.head()"
   ]
  },
  {
   "cell_type": "code",
   "execution_count": 9,
   "metadata": {},
   "outputs": [],
   "source": [
    "Y = dataset.iloc[:,-1]"
   ]
  },
  {
   "cell_type": "code",
   "execution_count": 10,
   "metadata": {},
   "outputs": [],
   "source": [
    "Y = Y.values.reshape(-1,1)"
   ]
  },
  {
   "cell_type": "code",
   "execution_count": 11,
   "metadata": {},
   "outputs": [],
   "source": [
    "Y = pd.DataFrame(Y)"
   ]
  },
  {
   "cell_type": "code",
   "execution_count": 12,
   "metadata": {},
   "outputs": [
    {
     "data": {
      "text/plain": [
       "(50, 1)"
      ]
     },
     "execution_count": 12,
     "metadata": {},
     "output_type": "execute_result"
    }
   ],
   "source": [
    "Y.shape"
   ]
  },
  {
   "cell_type": "code",
   "execution_count": 13,
   "metadata": {},
   "outputs": [
    {
     "name": "stderr",
     "output_type": "stream",
     "text": [
      "c:\\users\\lenovo_pc\\appdata\\local\\programs\\python\\python37\\lib\\site-packages\\sklearn\\preprocessing\\_encoders.py:371: FutureWarning: The handling of integer data will change in version 0.22. Currently, the categories are determined based on the range [0, max(values)], while in the future they will be determined based on the unique values.\n",
      "If you want the future behaviour and silence this warning, you can specify \"categories='auto'\".\n",
      "In case you used a LabelEncoder before this OneHotEncoder to convert the categories to integers, then you can now use the OneHotEncoder directly.\n",
      "  warnings.warn(msg, FutureWarning)\n",
      "c:\\users\\lenovo_pc\\appdata\\local\\programs\\python\\python37\\lib\\site-packages\\sklearn\\preprocessing\\_encoders.py:392: DeprecationWarning: The 'categorical_features' keyword is deprecated in version 0.20 and will be removed in 0.22. You can use the ColumnTransformer instead.\n",
      "  \"use the ColumnTransformer instead.\", DeprecationWarning)\n"
     ]
    },
    {
     "data": {
      "text/plain": [
       "(50, 6)"
      ]
     },
     "execution_count": 13,
     "metadata": {},
     "output_type": "execute_result"
    }
   ],
   "source": [
    "from sklearn.preprocessing import OneHotEncoder, LabelEncoder\n",
    "LE1 = LabelEncoder()\n",
    "X.State = LE1.fit_transform(X.State)\n",
    "OHE = OneHotEncoder(categorical_features = [3])\n",
    "X = OHE.fit_transform(X.values).toarray()\n",
    "X.shape"
   ]
  },
  {
   "cell_type": "code",
   "execution_count": 14,
   "metadata": {},
   "outputs": [
    {
     "data": {
      "text/html": [
       "<div>\n",
       "<style scoped>\n",
       "    .dataframe tbody tr th:only-of-type {\n",
       "        vertical-align: middle;\n",
       "    }\n",
       "\n",
       "    .dataframe tbody tr th {\n",
       "        vertical-align: top;\n",
       "    }\n",
       "\n",
       "    .dataframe thead th {\n",
       "        text-align: right;\n",
       "    }\n",
       "</style>\n",
       "<table border=\"1\" class=\"dataframe\">\n",
       "  <thead>\n",
       "    <tr style=\"text-align: right;\">\n",
       "      <th></th>\n",
       "      <th>0</th>\n",
       "      <th>2</th>\n",
       "      <th>3</th>\n",
       "      <th>4</th>\n",
       "      <th>5</th>\n",
       "    </tr>\n",
       "  </thead>\n",
       "  <tbody>\n",
       "    <tr>\n",
       "      <th>0</th>\n",
       "      <td>0.0</td>\n",
       "      <td>1.0</td>\n",
       "      <td>165349.20</td>\n",
       "      <td>136897.80</td>\n",
       "      <td>471784.10</td>\n",
       "    </tr>\n",
       "    <tr>\n",
       "      <th>1</th>\n",
       "      <td>1.0</td>\n",
       "      <td>0.0</td>\n",
       "      <td>162597.70</td>\n",
       "      <td>151377.59</td>\n",
       "      <td>443898.53</td>\n",
       "    </tr>\n",
       "    <tr>\n",
       "      <th>2</th>\n",
       "      <td>0.0</td>\n",
       "      <td>0.0</td>\n",
       "      <td>153441.51</td>\n",
       "      <td>101145.55</td>\n",
       "      <td>407934.54</td>\n",
       "    </tr>\n",
       "    <tr>\n",
       "      <th>3</th>\n",
       "      <td>0.0</td>\n",
       "      <td>1.0</td>\n",
       "      <td>144372.41</td>\n",
       "      <td>118671.85</td>\n",
       "      <td>383199.62</td>\n",
       "    </tr>\n",
       "    <tr>\n",
       "      <th>4</th>\n",
       "      <td>0.0</td>\n",
       "      <td>0.0</td>\n",
       "      <td>142107.34</td>\n",
       "      <td>91391.77</td>\n",
       "      <td>366168.42</td>\n",
       "    </tr>\n",
       "  </tbody>\n",
       "</table>\n",
       "</div>"
      ],
      "text/plain": [
       "     0    2          3          4          5\n",
       "0  0.0  1.0  165349.20  136897.80  471784.10\n",
       "1  1.0  0.0  162597.70  151377.59  443898.53\n",
       "2  0.0  0.0  153441.51  101145.55  407934.54\n",
       "3  0.0  1.0  144372.41  118671.85  383199.62\n",
       "4  0.0  0.0  142107.34   91391.77  366168.42"
      ]
     },
     "execution_count": 14,
     "metadata": {},
     "output_type": "execute_result"
    }
   ],
   "source": [
    "X = pd.DataFrame(X)\n",
    "X.head()\n",
    "X = X.drop([1],axis = 1)\n",
    "X.head()"
   ]
  },
  {
   "cell_type": "code",
   "execution_count": null,
   "metadata": {},
   "outputs": [],
   "source": []
  },
  {
   "cell_type": "code",
   "execution_count": 15,
   "metadata": {},
   "outputs": [],
   "source": [
    "from sklearn.preprocessing import StandardScaler\n",
    "X_s = StandardScaler()\n",
    "Y_s = StandardScaler()\n",
    "X = X_s.fit_transform(X)\n",
    "Y = Y_s.fit_transform(Y)"
   ]
  },
  {
   "cell_type": "code",
   "execution_count": 16,
   "metadata": {},
   "outputs": [
    {
     "data": {
      "text/plain": [
       "{'whiskers': [<matplotlib.lines.Line2D at 0x54397d9c50>,\n",
       "  <matplotlib.lines.Line2D at 0x54397d9f98>,\n",
       "  <matplotlib.lines.Line2D at 0x54397ef390>,\n",
       "  <matplotlib.lines.Line2D at 0x54397ef6d8>,\n",
       "  <matplotlib.lines.Line2D at 0x54397f8b00>,\n",
       "  <matplotlib.lines.Line2D at 0x54397f8e48>,\n",
       "  <matplotlib.lines.Line2D at 0x5439803fd0>,\n",
       "  <matplotlib.lines.Line2D at 0x543980e588>,\n",
       "  <matplotlib.lines.Line2D at 0x5439816978>,\n",
       "  <matplotlib.lines.Line2D at 0x5439816cc0>],\n",
       " 'caps': [<matplotlib.lines.Line2D at 0x54397e5320>,\n",
       "  <matplotlib.lines.Line2D at 0x54397e5630>,\n",
       "  <matplotlib.lines.Line2D at 0x54397efa58>,\n",
       "  <matplotlib.lines.Line2D at 0x54397efda0>,\n",
       "  <matplotlib.lines.Line2D at 0x54397f8f28>,\n",
       "  <matplotlib.lines.Line2D at 0x5439803518>,\n",
       "  <matplotlib.lines.Line2D at 0x543980e8d0>,\n",
       "  <matplotlib.lines.Line2D at 0x543980ec18>,\n",
       "  <matplotlib.lines.Line2D at 0x5439816da0>,\n",
       "  <matplotlib.lines.Line2D at 0x54398223c8>],\n",
       " 'boxes': [<matplotlib.lines.Line2D at 0x54397d9828>,\n",
       "  <matplotlib.lines.Line2D at 0x54384e54a8>,\n",
       "  <matplotlib.lines.Line2D at 0x54397f87b8>,\n",
       "  <matplotlib.lines.Line2D at 0x5439803ef0>,\n",
       "  <matplotlib.lines.Line2D at 0x5439816630>],\n",
       " 'medians': [<matplotlib.lines.Line2D at 0x54397e5978>,\n",
       "  <matplotlib.lines.Line2D at 0x54397efe80>,\n",
       "  <matplotlib.lines.Line2D at 0x5439803860>,\n",
       "  <matplotlib.lines.Line2D at 0x543980ef60>,\n",
       "  <matplotlib.lines.Line2D at 0x54398226d8>],\n",
       " 'fliers': [<matplotlib.lines.Line2D at 0x54397e5cc0>,\n",
       "  <matplotlib.lines.Line2D at 0x54397f8470>,\n",
       "  <matplotlib.lines.Line2D at 0x5439803ba8>,\n",
       "  <matplotlib.lines.Line2D at 0x54398162e8>,\n",
       "  <matplotlib.lines.Line2D at 0x5439822a20>],\n",
       " 'means': []}"
      ]
     },
     "execution_count": 16,
     "metadata": {},
     "output_type": "execute_result"
    },
    {
     "data": {
      "image/png": "[encoded data removed]",
      "text/plain": [
       "<Figure size 432x288 with 1 Axes>"
      ]
     },
     "metadata": {
      "needs_background": "light"
     },
     "output_type": "display_data"
    }
   ],
   "source": [
    "plt.boxplot(X)\n"
   ]
  },
  {
   "cell_type": "code",
   "execution_count": 17,
   "metadata": {},
   "outputs": [
    {
     "data": {
      "text/html": [
       "<div>\n",
       "<style scoped>\n",
       "    .dataframe tbody tr th:only-of-type {\n",
       "        vertical-align: middle;\n",
       "    }\n",
       "\n",
       "    .dataframe tbody tr th {\n",
       "        vertical-align: top;\n",
       "    }\n",
       "\n",
       "    .dataframe thead th {\n",
       "        text-align: right;\n",
       "    }\n",
       "</style>\n",
       "<table border=\"1\" class=\"dataframe\">\n",
       "  <thead>\n",
       "    <tr style=\"text-align: right;\">\n",
       "      <th></th>\n",
       "      <th>0</th>\n",
       "      <th>1</th>\n",
       "      <th>2</th>\n",
       "      <th>3</th>\n",
       "      <th>4</th>\n",
       "    </tr>\n",
       "  </thead>\n",
       "  <tbody>\n",
       "    <tr>\n",
       "      <th>0</th>\n",
       "      <td>-0.717741</td>\n",
       "      <td>1.393261</td>\n",
       "      <td>2.011531</td>\n",
       "      <td>0.561826</td>\n",
       "      <td>2.187271</td>\n",
       "    </tr>\n",
       "    <tr>\n",
       "      <th>1</th>\n",
       "      <td>1.393261</td>\n",
       "      <td>-0.717741</td>\n",
       "      <td>1.950880</td>\n",
       "      <td>1.083894</td>\n",
       "      <td>1.949436</td>\n",
       "    </tr>\n",
       "    <tr>\n",
       "      <th>2</th>\n",
       "      <td>-0.717741</td>\n",
       "      <td>-0.717741</td>\n",
       "      <td>1.749052</td>\n",
       "      <td>-0.727219</td>\n",
       "      <td>1.642701</td>\n",
       "    </tr>\n",
       "    <tr>\n",
       "      <th>3</th>\n",
       "      <td>-0.717741</td>\n",
       "      <td>1.393261</td>\n",
       "      <td>1.549143</td>\n",
       "      <td>-0.095309</td>\n",
       "      <td>1.431738</td>\n",
       "    </tr>\n",
       "    <tr>\n",
       "      <th>4</th>\n",
       "      <td>-0.717741</td>\n",
       "      <td>-0.717741</td>\n",
       "      <td>1.499214</td>\n",
       "      <td>-1.078891</td>\n",
       "      <td>1.286479</td>\n",
       "    </tr>\n",
       "  </tbody>\n",
       "</table>\n",
       "</div>"
      ],
      "text/plain": [
       "          0         1         2         3         4\n",
       "0 -0.717741  1.393261  2.011531  0.561826  2.187271\n",
       "1  1.393261 -0.717741  1.950880  1.083894  1.949436\n",
       "2 -0.717741 -0.717741  1.749052 -0.727219  1.642701\n",
       "3 -0.717741  1.393261  1.549143 -0.095309  1.431738\n",
       "4 -0.717741 -0.717741  1.499214 -1.078891  1.286479"
      ]
     },
     "execution_count": 17,
     "metadata": {},
     "output_type": "execute_result"
    }
   ],
   "source": [
    "pd.DataFrame(X).head()"
   ]
  },
  {
   "cell_type": "code",
   "execution_count": 18,
   "metadata": {},
   "outputs": [
    {
     "data": {
      "text/plain": [
       "(array([-7.28857844e-16]),\n",
       " array([[ 0.01165348,  0.0059028 ,  0.89825659, -0.01282542,  0.10233165]]))"
      ]
     },
     "execution_count": 18,
     "metadata": {},
     "output_type": "execute_result"
    }
   ],
   "source": [
    "from sklearn.linear_model import LinearRegression\n",
    "regressor = LinearRegression()\n",
    "regressor.fit(X,Y)\n",
    "regressor.intercept_,regressor.coef_"
   ]
  },
  {
   "cell_type": "code",
   "execution_count": 19,
   "metadata": {},
   "outputs": [],
   "source": [
    "Y_pred_ss = regressor.predict(X)"
   ]
  },
  {
   "cell_type": "code",
   "execution_count": 20,
   "metadata": {},
   "outputs": [
    {
     "data": {
      "text/plain": [
       "array([[ 2.02335193],\n",
       "       [ 1.94997787],\n",
       "       [ 1.73592336],\n",
       "       [ 1.53912231],\n",
       "       [ 1.47956318],\n",
       "       [ 1.2826789 ],\n",
       "       [ 1.12190109],\n",
       "       [ 1.18379346],\n",
       "       [ 0.99091426],\n",
       "       [ 1.07107018],\n",
       "       [ 0.55525527],\n",
       "       [ 0.58194159],\n",
       "       [ 0.40619092],\n",
       "       [ 0.39242421],\n",
       "       [ 0.91487699],\n",
       "       [ 0.84031243],\n",
       "       [ 0.13225452],\n",
       "       [ 0.45472047],\n",
       "       [ 0.40974526],\n",
       "       [ 0.22902853],\n",
       "       [ 0.13094829],\n",
       "       [ 0.14357685],\n",
       "       [ 0.0622319 ],\n",
       "       [-0.0572547 ],\n",
       "       [ 0.00322066],\n",
       "       [-0.25065347],\n",
       "       [-0.06963646],\n",
       "       [ 0.07782308],\n",
       "       [-0.28501545],\n",
       "       [-0.27730158],\n",
       "       [-0.3579411 ],\n",
       "       [-0.38215075],\n",
       "       [-0.35092992],\n",
       "       [-0.00476635],\n",
       "       [-0.55660005],\n",
       "       [-0.54791354],\n",
       "       [-0.9271693 ],\n",
       "       [-0.56606172],\n",
       "       [-1.06729211],\n",
       "       [-0.70907454],\n",
       "       [-0.92156713],\n",
       "       [-0.95484344],\n",
       "       [-1.0341152 ],\n",
       "       [-1.31991599],\n",
       "       [-1.19463463],\n",
       "       [-1.63498506],\n",
       "       [-1.37969472],\n",
       "       [-1.64952499],\n",
       "       [-1.61223502],\n",
       "       [-1.60157029]])"
      ]
     },
     "execution_count": 20,
     "metadata": {},
     "output_type": "execute_result"
    }
   ],
   "source": [
    "Y_pred_ss\n"
   ]
  },
  {
   "cell_type": "code",
   "execution_count": 21,
   "metadata": {},
   "outputs": [
    {
     "data": {
      "text/plain": [
       "(0.051525672864348705, 0.22699267138907525)"
      ]
     },
     "execution_count": 21,
     "metadata": {},
     "output_type": "execute_result"
    }
   ],
   "source": [
    "import sklearn.metrics as eva\n",
    "eva.mean_squared_error(Y,Y_pred_ss),eva.mean_squared_error(Y,Y_pred_ss)**0.5"
   ]
  },
  {
   "cell_type": "code",
   "execution_count": 22,
   "metadata": {},
   "outputs": [
    {
     "data": {
      "text/plain": [
       "0.9484743271356513"
      ]
     },
     "execution_count": 22,
     "metadata": {},
     "output_type": "execute_result"
    }
   ],
   "source": [
    "eva.r2_score(Y,Y_pred_ss)"
   ]
  },
  {
   "cell_type": "code",
   "execution_count": 23,
   "metadata": {},
   "outputs": [
    {
     "data": {
      "text/plain": [
       "0.16516295062146985"
      ]
     },
     "execution_count": 23,
     "metadata": {},
     "output_type": "execute_result"
    }
   ],
   "source": [
    "eva.mean_absolute_error(Y,Y_pred_ss)"
   ]
  },
  {
   "cell_type": "code",
   "execution_count": 24,
   "metadata": {},
   "outputs": [
    {
     "data": {
      "text/plain": [
       "array([[192746.57208388],\n",
       "       [189818.86779033],\n",
       "       [181277.8608671 ],\n",
       "       [173425.28583892],\n",
       "       [171048.81230366],\n",
       "       [163192.91616057],\n",
       "       [156777.70761813],\n",
       "       [159247.28004318],\n",
       "       [151551.19131758],\n",
       "       [154749.49934714],\n",
       "       [134167.92586777],\n",
       "       [135232.73879216],\n",
       "       [128220.09686138],\n",
       "       [127670.79019987],\n",
       "       [148517.22171911],\n",
       "       [145542.01520073],\n",
       "       [117289.73770613],\n",
       "       [130156.47824364],\n",
       "       [128361.91861354],\n",
       "       [121151.12572813],\n",
       "       [117237.6177366 ],\n",
       "       [117741.51088745],\n",
       "       [114495.759464  ],\n",
       "       [109728.11462569],\n",
       "       [112141.14702199],\n",
       "       [102011.29420317],\n",
       "       [109234.0690816 ],\n",
       "       [115117.86432387],\n",
       "       [100640.2140353 ],\n",
       "       [100948.00570951],\n",
       "       [ 97730.4017188 ],\n",
       "       [ 96764.41034582],\n",
       "       [ 98010.1554337 ],\n",
       "       [111822.45674138],\n",
       "       [ 89803.69457774],\n",
       "       [ 90150.29568438],\n",
       "       [ 75017.58024316],\n",
       "       [ 89426.16378087],\n",
       "       [ 69426.52813137],\n",
       "       [ 83719.79728081],\n",
       "       [ 75241.11269093],\n",
       "       [ 73913.35199804],\n",
       "       [ 70750.32276958],\n",
       "       [ 59346.56216512],\n",
       "       [ 64345.42385591],\n",
       "       [ 46774.9651095 ],\n",
       "       [ 56961.32581629],\n",
       "       [ 46194.80593125],\n",
       "       [ 47682.71604755],\n",
       "       [ 48108.25028567]])"
      ]
     },
     "execution_count": 24,
     "metadata": {},
     "output_type": "execute_result"
    }
   ],
   "source": [
    "Y_s.inverse_transform(Y_pred_ss)"
   ]
  },
  {
   "cell_type": "code",
   "execution_count": 25,
   "metadata": {},
   "outputs": [
    {
     "data": {
      "text/plain": [
       "0.9426191370374298"
      ]
     },
     "execution_count": 25,
     "metadata": {},
     "output_type": "execute_result"
    }
   ],
   "source": [
    "\n",
    "1 - (1-eva.r2_score(Y,Y_pred_ss))*((Y.shape[0]-1)/(Y.shape[0]-X.shape[1]-1))"
   ]
  },
  {
   "cell_type": "code",
   "execution_count": 26,
   "metadata": {},
   "outputs": [
    {
     "data": {
      "text/plain": [
       "array([[-0.71774056,  1.39326109,  2.0115306 ,  0.56182648,  2.18727067],\n",
       "       [ 1.39326109, -0.71774056,  1.95087978,  1.08389447,  1.94943591],\n",
       "       [-0.71774056, -0.71774056,  1.74905153, -0.72721882,  1.64270066],\n",
       "       [-0.71774056,  1.39326109,  1.54914299, -0.09530909,  1.43173764],\n",
       "       [-0.71774056, -0.71774056,  1.49921446, -1.0788908 ,  1.2864793 ]])"
      ]
     },
     "execution_count": 26,
     "metadata": {},
     "output_type": "execute_result"
    }
   ],
   "source": [
    "X[:5]"
   ]
  },
  {
   "cell_type": "code",
   "execution_count": 27,
   "metadata": {},
   "outputs": [
    {
     "data": {
      "text/plain": [
       "array([[2.01120333],\n",
       "       [1.99942997],\n",
       "       [1.98084225],\n",
       "       [1.77662724],\n",
       "       [1.35774012]])"
      ]
     },
     "execution_count": 27,
     "metadata": {},
     "output_type": "execute_result"
    }
   ],
   "source": [
    "Y[:5]"
   ]
  },
  {
   "cell_type": "code",
   "execution_count": 28,
   "metadata": {},
   "outputs": [],
   "source": [
    "X = np.append(X_s.fit_transform(np.ones((50,1))).astype(int), values = X,axis=1)"
   ]
  },
  {
   "cell_type": "code",
   "execution_count": 29,
   "metadata": {},
   "outputs": [
    {
     "data": {
      "text/plain": [
       "{'whiskers': [<matplotlib.lines.Line2D at 0x5439b55e10>,\n",
       "  <matplotlib.lines.Line2D at 0x5439b55ef0>,\n",
       "  <matplotlib.lines.Line2D at 0x5439b6d550>,\n",
       "  <matplotlib.lines.Line2D at 0x5439b6d8d0>,\n",
       "  <matplotlib.lines.Line2D at 0x5439b78cc0>,\n",
       "  <matplotlib.lines.Line2D at 0x5439b78da0>,\n",
       "  <matplotlib.lines.Line2D at 0x5439b8b400>,\n",
       "  <matplotlib.lines.Line2D at 0x5439b8b748>,\n",
       "  <matplotlib.lines.Line2D at 0x5439b95b38>,\n",
       "  <matplotlib.lines.Line2D at 0x5439b95eb8>,\n",
       "  <matplotlib.lines.Line2D at 0x5439bab2b0>,\n",
       "  <matplotlib.lines.Line2D at 0x5439bab5f8>],\n",
       " 'caps': [<matplotlib.lines.Line2D at 0x5439b614a8>,\n",
       "  <matplotlib.lines.Line2D at 0x5439b617f0>,\n",
       "  <matplotlib.lines.Line2D at 0x5439b6dc18>,\n",
       "  <matplotlib.lines.Line2D at 0x5439b6df60>,\n",
       "  <matplotlib.lines.Line2D at 0x5439b80390>,\n",
       "  <matplotlib.lines.Line2D at 0x5439b806d8>,\n",
       "  <matplotlib.lines.Line2D at 0x5439b8ba90>,\n",
       "  <matplotlib.lines.Line2D at 0x5439b8bdd8>,\n",
       "  <matplotlib.lines.Line2D at 0x5439b95f98>,\n",
       "  <matplotlib.lines.Line2D at 0x5439b9e550>,\n",
       "  <matplotlib.lines.Line2D at 0x5439bab940>,\n",
       "  <matplotlib.lines.Line2D at 0x5439babc88>],\n",
       " 'boxes': [<matplotlib.lines.Line2D at 0x5439b55a20>,\n",
       "  <matplotlib.lines.Line2D at 0x5439b61f28>,\n",
       "  <matplotlib.lines.Line2D at 0x5439b78978>,\n",
       "  <matplotlib.lines.Line2D at 0x5439b80dd8>,\n",
       "  <matplotlib.lines.Line2D at 0x5439b957f0>,\n",
       "  <matplotlib.lines.Line2D at 0x5439b9ef28>],\n",
       " 'medians': [<matplotlib.lines.Line2D at 0x5439b61b38>,\n",
       "  <matplotlib.lines.Line2D at 0x5439b782e8>,\n",
       "  <matplotlib.lines.Line2D at 0x5439b80a20>,\n",
       "  <matplotlib.lines.Line2D at 0x5439b8beb8>,\n",
       "  <matplotlib.lines.Line2D at 0x5439b9e898>,\n",
       "  <matplotlib.lines.Line2D at 0x5439babfd0>],\n",
       " 'fliers': [<matplotlib.lines.Line2D at 0x5439b61e80>,\n",
       "  <matplotlib.lines.Line2D at 0x5439b78630>,\n",
       "  <matplotlib.lines.Line2D at 0x5439b80d30>,\n",
       "  <matplotlib.lines.Line2D at 0x5439b954a8>,\n",
       "  <matplotlib.lines.Line2D at 0x5439b9ebe0>,\n",
       "  <matplotlib.lines.Line2D at 0x5439bb3358>],\n",
       " 'means': []}"
      ]
     },
     "execution_count": 29,
     "metadata": {},
     "output_type": "execute_result"
    },
    {
     "data": {
      "image/png": "[encoded data removed]",
      "text/plain": [
       "<Figure size 432x288 with 1 Axes>"
      ]
     },
     "metadata": {
      "needs_background": "light"
     },
     "output_type": "display_data"
    }
   ],
   "source": [
    "plt.boxplot(X)"
   ]
  },
  {
   "cell_type": "code",
   "execution_count": 31,
   "metadata": {},
   "outputs": [],
   "source": [
    "import statsmodels.formula.api as sm\n",
    "SL = 0.05\n",
    "\n",
    "regressor = sm.OLS(endog=Y,exog=X).fit()"
   ]
  },
  {
   "cell_type": "code",
   "execution_count": null,
   "metadata": {},
   "outputs": [],
   "source": []
  },
  {
   "cell_type": "code",
   "execution_count": null,
   "metadata": {},
   "outputs": [],
   "source": []
  },
  {
   "cell_type": "code",
   "execution_count": 32,
   "metadata": {},
   "outputs": [
    {
     "data": {
      "text/html": [
       "<div>\n",
       "<style scoped>\n",
       "    .dataframe tbody tr th:only-of-type {\n",
       "        vertical-align: middle;\n",
       "    }\n",
       "\n",
       "    .dataframe tbody tr th {\n",
       "        vertical-align: top;\n",
       "    }\n",
       "\n",
       "    .dataframe thead th {\n",
       "        text-align: right;\n",
       "    }\n",
       "</style>\n",
       "<table border=\"1\" class=\"dataframe\">\n",
       "  <thead>\n",
       "    <tr style=\"text-align: right;\">\n",
       "      <th></th>\n",
       "      <th>0</th>\n",
       "      <th>1</th>\n",
       "      <th>2</th>\n",
       "      <th>3</th>\n",
       "      <th>4</th>\n",
       "      <th>5</th>\n",
       "    </tr>\n",
       "  </thead>\n",
       "  <tbody>\n",
       "    <tr>\n",
       "      <th>0</th>\n",
       "      <td>0.0</td>\n",
       "      <td>-0.717741</td>\n",
       "      <td>1.393261</td>\n",
       "      <td>2.011531</td>\n",
       "      <td>0.561826</td>\n",
       "      <td>2.187271</td>\n",
       "    </tr>\n",
       "    <tr>\n",
       "      <th>1</th>\n",
       "      <td>0.0</td>\n",
       "      <td>1.393261</td>\n",
       "      <td>-0.717741</td>\n",
       "      <td>1.950880</td>\n",
       "      <td>1.083894</td>\n",
       "      <td>1.949436</td>\n",
       "    </tr>\n",
       "    <tr>\n",
       "      <th>2</th>\n",
       "      <td>0.0</td>\n",
       "      <td>-0.717741</td>\n",
       "      <td>-0.717741</td>\n",
       "      <td>1.749052</td>\n",
       "      <td>-0.727219</td>\n",
       "      <td>1.642701</td>\n",
       "    </tr>\n",
       "    <tr>\n",
       "      <th>3</th>\n",
       "      <td>0.0</td>\n",
       "      <td>-0.717741</td>\n",
       "      <td>1.393261</td>\n",
       "      <td>1.549143</td>\n",
       "      <td>-0.095309</td>\n",
       "      <td>1.431738</td>\n",
       "    </tr>\n",
       "    <tr>\n",
       "      <th>4</th>\n",
       "      <td>0.0</td>\n",
       "      <td>-0.717741</td>\n",
       "      <td>-0.717741</td>\n",
       "      <td>1.499214</td>\n",
       "      <td>-1.078891</td>\n",
       "      <td>1.286479</td>\n",
       "    </tr>\n",
       "  </tbody>\n",
       "</table>\n",
       "</div>"
      ],
      "text/plain": [
       "     0         1         2         3         4         5\n",
       "0  0.0 -0.717741  1.393261  2.011531  0.561826  2.187271\n",
       "1  0.0  1.393261 -0.717741  1.950880  1.083894  1.949436\n",
       "2  0.0 -0.717741 -0.717741  1.749052 -0.727219  1.642701\n",
       "3  0.0 -0.717741  1.393261  1.549143 -0.095309  1.431738\n",
       "4  0.0 -0.717741 -0.717741  1.499214 -1.078891  1.286479"
      ]
     },
     "execution_count": 32,
     "metadata": {},
     "output_type": "execute_result"
    }
   ],
   "source": [
    "pd.DataFrame(X).head()"
   ]
  },
  {
   "cell_type": "code",
   "execution_count": 33,
   "metadata": {},
   "outputs": [
    {
     "name": "stderr",
     "output_type": "stream",
     "text": [
      "c:\\users\\lenovo_pc\\appdata\\local\\programs\\python\\python37\\lib\\site-packages\\statsmodels\\regression\\linear_model.py:1633: RuntimeWarning: divide by zero encountered in double_scalars\n",
      "  return np.sqrt(eigvals[0]/eigvals[-1])\n",
      "c:\\users\\lenovo_pc\\appdata\\local\\programs\\python\\python37\\lib\\site-packages\\statsmodels\\base\\model.py:1100: RuntimeWarning: invalid value encountered in true_divide\n",
      "  return self.params / self.bse\n",
      "c:\\users\\lenovo_pc\\appdata\\local\\programs\\python\\python37\\lib\\site-packages\\scipy\\stats\\_distn_infrastructure.py:877: RuntimeWarning: invalid value encountered in greater\n",
      "  return (self.a < x) & (x < self.b)\n",
      "c:\\users\\lenovo_pc\\appdata\\local\\programs\\python\\python37\\lib\\site-packages\\scipy\\stats\\_distn_infrastructure.py:877: RuntimeWarning: invalid value encountered in less\n",
      "  return (self.a < x) & (x < self.b)\n",
      "c:\\users\\lenovo_pc\\appdata\\local\\programs\\python\\python37\\lib\\site-packages\\scipy\\stats\\_distn_infrastructure.py:1831: RuntimeWarning: invalid value encountered in less_equal\n",
      "  cond2 = cond0 & (x <= self.a)\n"
     ]
    },
    {
     "data": {
      "text/html": [
       "<table class=\"simpletable\">\n",
       "<caption>OLS Regression Results</caption>\n",
       "<tr>\n",
       "  <th>Dep. Variable:</th>            <td>y</td>        <th>  R-squared:         </th> <td>   0.948</td>\n",
       "</tr>\n",
       "<tr>\n",
       "  <th>Model:</th>                   <td>OLS</td>       <th>  Adj. R-squared:    </th> <td>   0.943</td>\n",
       "</tr>\n",
       "<tr>\n",
       "  <th>Method:</th>             <td>Least Squares</td>  <th>  F-statistic:       </th> <td>   165.7</td>\n",
       "</tr>\n",
       "<tr>\n",
       "  <th>Date:</th>             <td>Sun, 21 Apr 2019</td> <th>  Prob (F-statistic):</th> <td>8.46e-28</td>\n",
       "</tr>\n",
       "<tr>\n",
       "  <th>Time:</th>                 <td>14:23:38</td>     <th>  Log-Likelihood:    </th> <td>  3.1950</td>\n",
       "</tr>\n",
       "<tr>\n",
       "  <th>No. Observations:</th>      <td>    50</td>      <th>  AIC:               </th> <td>   3.610</td>\n",
       "</tr>\n",
       "<tr>\n",
       "  <th>Df Residuals:</th>          <td>    45</td>      <th>  BIC:               </th> <td>   13.17</td>\n",
       "</tr>\n",
       "<tr>\n",
       "  <th>Df Model:</th>              <td>     5</td>      <th>                     </th>     <td> </td>   \n",
       "</tr>\n",
       "<tr>\n",
       "  <th>Covariance Type:</th>      <td>nonrobust</td>    <th>                     </th>     <td> </td>   \n",
       "</tr>\n",
       "</table>\n",
       "<table class=\"simpletable\">\n",
       "<tr>\n",
       "    <td></td>       <th>coef</th>     <th>std err</th>      <th>t</th>      <th>P>|t|</th>  <th>[0.025</th>    <th>0.975]</th>  \n",
       "</tr>\n",
       "<tr>\n",
       "  <th>const</th> <td>         0</td> <td>        0</td> <td>      nan</td> <td>   nan</td> <td>        0</td> <td>        0</td>\n",
       "</tr>\n",
       "<tr>\n",
       "  <th>x1</th>    <td>    0.0117</td> <td>    0.041</td> <td>    0.287</td> <td> 0.775</td> <td>   -0.070</td> <td>    0.093</td>\n",
       "</tr>\n",
       "<tr>\n",
       "  <th>x2</th>    <td>    0.0059</td> <td>    0.040</td> <td>    0.149</td> <td> 0.883</td> <td>   -0.074</td> <td>    0.086</td>\n",
       "</tr>\n",
       "<tr>\n",
       "  <th>x3</th>    <td>    0.8983</td> <td>    0.056</td> <td>   16.140</td> <td> 0.000</td> <td>    0.786</td> <td>    1.010</td>\n",
       "</tr>\n",
       "<tr>\n",
       "  <th>x4</th>    <td>   -0.0128</td> <td>    0.036</td> <td>   -0.354</td> <td> 0.725</td> <td>   -0.086</td> <td>    0.060</td>\n",
       "</tr>\n",
       "<tr>\n",
       "  <th>x5</th>    <td>    0.1023</td> <td>    0.055</td> <td>    1.868</td> <td> 0.068</td> <td>   -0.008</td> <td>    0.213</td>\n",
       "</tr>\n",
       "</table>\n",
       "<table class=\"simpletable\">\n",
       "<tr>\n",
       "  <th>Omnibus:</th>       <td>12.594</td> <th>  Durbin-Watson:     </th> <td>   1.378</td>\n",
       "</tr>\n",
       "<tr>\n",
       "  <th>Prob(Omnibus):</th> <td> 0.002</td> <th>  Jarque-Bera (JB):  </th> <td>  16.322</td>\n",
       "</tr>\n",
       "<tr>\n",
       "  <th>Skew:</th>          <td>-0.852</td> <th>  Prob(JB):          </th> <td>0.000286</td>\n",
       "</tr>\n",
       "<tr>\n",
       "  <th>Kurtosis:</th>      <td> 5.220</td> <th>  Cond. No.          </th> <td>     inf</td>\n",
       "</tr>\n",
       "</table><br/><br/>Warnings:<br/>[1] Standard Errors assume that the covariance matrix of the errors is correctly specified.<br/>[2] The smallest eigenvalue is      0. This might indicate that there are<br/>strong multicollinearity problems or that the design matrix is singular."
      ],
      "text/plain": [
       "<class 'statsmodels.iolib.summary.Summary'>\n",
       "\"\"\"\n",
       "                            OLS Regression Results                            \n",
       "==============================================================================\n",
       "Dep. Variable:                      y   R-squared:                       0.948\n",
       "Model:                            OLS   Adj. R-squared:                  0.943\n",
       "Method:                 Least Squares   F-statistic:                     165.7\n",
       "Date:                Sun, 21 Apr 2019   Prob (F-statistic):           8.46e-28\n",
       "Time:                        14:23:38   Log-Likelihood:                 3.1950\n",
       "No. Observations:                  50   AIC:                             3.610\n",
       "Df Residuals:                      45   BIC:                             13.17\n",
       "Df Model:                           5                                         \n",
       "Covariance Type:            nonrobust                                         \n",
       "==============================================================================\n",
       "                 coef    std err          t      P>|t|      [0.025      0.975]\n",
       "------------------------------------------------------------------------------\n",
       "const               0          0        nan        nan           0           0\n",
       "x1             0.0117      0.041      0.287      0.775      -0.070       0.093\n",
       "x2             0.0059      0.040      0.149      0.883      -0.074       0.086\n",
       "x3             0.8983      0.056     16.140      0.000       0.786       1.010\n",
       "x4            -0.0128      0.036     -0.354      0.725      -0.086       0.060\n",
       "x5             0.1023      0.055      1.868      0.068      -0.008       0.213\n",
       "==============================================================================\n",
       "Omnibus:                       12.594   Durbin-Watson:                   1.378\n",
       "Prob(Omnibus):                  0.002   Jarque-Bera (JB):               16.322\n",
       "Skew:                          -0.852   Prob(JB):                     0.000286\n",
       "Kurtosis:                       5.220   Cond. No.                          inf\n",
       "==============================================================================\n",
       "\n",
       "Warnings:\n",
       "[1] Standard Errors assume that the covariance matrix of the errors is correctly specified.\n",
       "[2] The smallest eigenvalue is      0. This might indicate that there are\n",
       "strong multicollinearity problems or that the design matrix is singular.\n",
       "\"\"\""
      ]
     },
     "execution_count": 33,
     "metadata": {},
     "output_type": "execute_result"
    }
   ],
   "source": [
    "\n",
    "regressor.summary()"
   ]
  },
  {
   "cell_type": "code",
   "execution_count": 34,
   "metadata": {},
   "outputs": [],
   "source": [
    "X = pd.DataFrame(X)"
   ]
  },
  {
   "cell_type": "code",
   "execution_count": 35,
   "metadata": {},
   "outputs": [
    {
     "data": {
      "text/html": [
       "<div>\n",
       "<style scoped>\n",
       "    .dataframe tbody tr th:only-of-type {\n",
       "        vertical-align: middle;\n",
       "    }\n",
       "\n",
       "    .dataframe tbody tr th {\n",
       "        vertical-align: top;\n",
       "    }\n",
       "\n",
       "    .dataframe thead th {\n",
       "        text-align: right;\n",
       "    }\n",
       "</style>\n",
       "<table border=\"1\" class=\"dataframe\">\n",
       "  <thead>\n",
       "    <tr style=\"text-align: right;\">\n",
       "      <th></th>\n",
       "      <th>0</th>\n",
       "      <th>1</th>\n",
       "      <th>2</th>\n",
       "      <th>3</th>\n",
       "      <th>4</th>\n",
       "      <th>5</th>\n",
       "    </tr>\n",
       "  </thead>\n",
       "  <tbody>\n",
       "    <tr>\n",
       "      <th>0</th>\n",
       "      <td>0.0</td>\n",
       "      <td>-0.717741</td>\n",
       "      <td>1.393261</td>\n",
       "      <td>2.011531</td>\n",
       "      <td>0.561826</td>\n",
       "      <td>2.187271</td>\n",
       "    </tr>\n",
       "    <tr>\n",
       "      <th>1</th>\n",
       "      <td>0.0</td>\n",
       "      <td>1.393261</td>\n",
       "      <td>-0.717741</td>\n",
       "      <td>1.950880</td>\n",
       "      <td>1.083894</td>\n",
       "      <td>1.949436</td>\n",
       "    </tr>\n",
       "    <tr>\n",
       "      <th>2</th>\n",
       "      <td>0.0</td>\n",
       "      <td>-0.717741</td>\n",
       "      <td>-0.717741</td>\n",
       "      <td>1.749052</td>\n",
       "      <td>-0.727219</td>\n",
       "      <td>1.642701</td>\n",
       "    </tr>\n",
       "    <tr>\n",
       "      <th>3</th>\n",
       "      <td>0.0</td>\n",
       "      <td>-0.717741</td>\n",
       "      <td>1.393261</td>\n",
       "      <td>1.549143</td>\n",
       "      <td>-0.095309</td>\n",
       "      <td>1.431738</td>\n",
       "    </tr>\n",
       "    <tr>\n",
       "      <th>4</th>\n",
       "      <td>0.0</td>\n",
       "      <td>-0.717741</td>\n",
       "      <td>-0.717741</td>\n",
       "      <td>1.499214</td>\n",
       "      <td>-1.078891</td>\n",
       "      <td>1.286479</td>\n",
       "    </tr>\n",
       "  </tbody>\n",
       "</table>\n",
       "</div>"
      ],
      "text/plain": [
       "     0         1         2         3         4         5\n",
       "0  0.0 -0.717741  1.393261  2.011531  0.561826  2.187271\n",
       "1  0.0  1.393261 -0.717741  1.950880  1.083894  1.949436\n",
       "2  0.0 -0.717741 -0.717741  1.749052 -0.727219  1.642701\n",
       "3  0.0 -0.717741  1.393261  1.549143 -0.095309  1.431738\n",
       "4  0.0 -0.717741 -0.717741  1.499214 -1.078891  1.286479"
      ]
     },
     "execution_count": 35,
     "metadata": {},
     "output_type": "execute_result"
    }
   ],
   "source": [
    "X.head()"
   ]
  },
  {
   "cell_type": "code",
   "execution_count": 36,
   "metadata": {},
   "outputs": [],
   "source": [
    "X.columns = [\"const\",\"OHE1\",\"OHE2\",\"R&D\",\"Admin\",\"Marketing\"]"
   ]
  },
  {
   "cell_type": "code",
   "execution_count": 37,
   "metadata": {},
   "outputs": [
    {
     "data": {
      "text/html": [
       "<div>\n",
       "<style scoped>\n",
       "    .dataframe tbody tr th:only-of-type {\n",
       "        vertical-align: middle;\n",
       "    }\n",
       "\n",
       "    .dataframe tbody tr th {\n",
       "        vertical-align: top;\n",
       "    }\n",
       "\n",
       "    .dataframe thead th {\n",
       "        text-align: right;\n",
       "    }\n",
       "</style>\n",
       "<table border=\"1\" class=\"dataframe\">\n",
       "  <thead>\n",
       "    <tr style=\"text-align: right;\">\n",
       "      <th></th>\n",
       "      <th>const</th>\n",
       "      <th>OHE1</th>\n",
       "      <th>OHE2</th>\n",
       "      <th>R&amp;D</th>\n",
       "      <th>Admin</th>\n",
       "      <th>Marketing</th>\n",
       "    </tr>\n",
       "  </thead>\n",
       "  <tbody>\n",
       "    <tr>\n",
       "      <th>0</th>\n",
       "      <td>0.0</td>\n",
       "      <td>-0.717741</td>\n",
       "      <td>1.393261</td>\n",
       "      <td>2.011531</td>\n",
       "      <td>0.561826</td>\n",
       "      <td>2.187271</td>\n",
       "    </tr>\n",
       "    <tr>\n",
       "      <th>1</th>\n",
       "      <td>0.0</td>\n",
       "      <td>1.393261</td>\n",
       "      <td>-0.717741</td>\n",
       "      <td>1.950880</td>\n",
       "      <td>1.083894</td>\n",
       "      <td>1.949436</td>\n",
       "    </tr>\n",
       "    <tr>\n",
       "      <th>2</th>\n",
       "      <td>0.0</td>\n",
       "      <td>-0.717741</td>\n",
       "      <td>-0.717741</td>\n",
       "      <td>1.749052</td>\n",
       "      <td>-0.727219</td>\n",
       "      <td>1.642701</td>\n",
       "    </tr>\n",
       "    <tr>\n",
       "      <th>3</th>\n",
       "      <td>0.0</td>\n",
       "      <td>-0.717741</td>\n",
       "      <td>1.393261</td>\n",
       "      <td>1.549143</td>\n",
       "      <td>-0.095309</td>\n",
       "      <td>1.431738</td>\n",
       "    </tr>\n",
       "    <tr>\n",
       "      <th>4</th>\n",
       "      <td>0.0</td>\n",
       "      <td>-0.717741</td>\n",
       "      <td>-0.717741</td>\n",
       "      <td>1.499214</td>\n",
       "      <td>-1.078891</td>\n",
       "      <td>1.286479</td>\n",
       "    </tr>\n",
       "  </tbody>\n",
       "</table>\n",
       "</div>"
      ],
      "text/plain": [
       "   const      OHE1      OHE2       R&D     Admin  Marketing\n",
       "0    0.0 -0.717741  1.393261  2.011531  0.561826   2.187271\n",
       "1    0.0  1.393261 -0.717741  1.950880  1.083894   1.949436\n",
       "2    0.0 -0.717741 -0.717741  1.749052 -0.727219   1.642701\n",
       "3    0.0 -0.717741  1.393261  1.549143 -0.095309   1.431738\n",
       "4    0.0 -0.717741 -0.717741  1.499214 -1.078891   1.286479"
      ]
     },
     "execution_count": 37,
     "metadata": {},
     "output_type": "execute_result"
    }
   ],
   "source": [
    "X.head()"
   ]
  },
  {
   "cell_type": "code",
   "execution_count": 38,
   "metadata": {},
   "outputs": [
    {
     "data": {
      "text/html": [
       "<table class=\"simpletable\">\n",
       "<caption>OLS Regression Results</caption>\n",
       "<tr>\n",
       "  <th>Dep. Variable:</th>            <td>y</td>        <th>  R-squared:         </th> <td>   0.948</td>\n",
       "</tr>\n",
       "<tr>\n",
       "  <th>Model:</th>                   <td>OLS</td>       <th>  Adj. R-squared:    </th> <td>   0.943</td>\n",
       "</tr>\n",
       "<tr>\n",
       "  <th>Method:</th>             <td>Least Squares</td>  <th>  F-statistic:       </th> <td>   165.7</td>\n",
       "</tr>\n",
       "<tr>\n",
       "  <th>Date:</th>             <td>Sun, 21 Apr 2019</td> <th>  Prob (F-statistic):</th> <td>8.46e-28</td>\n",
       "</tr>\n",
       "<tr>\n",
       "  <th>Time:</th>                 <td>14:23:39</td>     <th>  Log-Likelihood:    </th> <td>  3.1950</td>\n",
       "</tr>\n",
       "<tr>\n",
       "  <th>No. Observations:</th>      <td>    50</td>      <th>  AIC:               </th> <td>   3.610</td>\n",
       "</tr>\n",
       "<tr>\n",
       "  <th>Df Residuals:</th>          <td>    45</td>      <th>  BIC:               </th> <td>   13.17</td>\n",
       "</tr>\n",
       "<tr>\n",
       "  <th>Df Model:</th>              <td>     5</td>      <th>                     </th>     <td> </td>   \n",
       "</tr>\n",
       "<tr>\n",
       "  <th>Covariance Type:</th>      <td>nonrobust</td>    <th>                     </th>     <td> </td>   \n",
       "</tr>\n",
       "</table>\n",
       "<table class=\"simpletable\">\n",
       "<tr>\n",
       "    <td></td>       <th>coef</th>     <th>std err</th>      <th>t</th>      <th>P>|t|</th>  <th>[0.025</th>    <th>0.975]</th>  \n",
       "</tr>\n",
       "<tr>\n",
       "  <th>const</th> <td>         0</td> <td>        0</td> <td>      nan</td> <td>   nan</td> <td>        0</td> <td>        0</td>\n",
       "</tr>\n",
       "<tr>\n",
       "  <th>x1</th>    <td>    0.0117</td> <td>    0.041</td> <td>    0.287</td> <td> 0.775</td> <td>   -0.070</td> <td>    0.093</td>\n",
       "</tr>\n",
       "<tr>\n",
       "  <th>x2</th>    <td>    0.0059</td> <td>    0.040</td> <td>    0.149</td> <td> 0.883</td> <td>   -0.074</td> <td>    0.086</td>\n",
       "</tr>\n",
       "<tr>\n",
       "  <th>x3</th>    <td>    0.8983</td> <td>    0.056</td> <td>   16.140</td> <td> 0.000</td> <td>    0.786</td> <td>    1.010</td>\n",
       "</tr>\n",
       "<tr>\n",
       "  <th>x4</th>    <td>   -0.0128</td> <td>    0.036</td> <td>   -0.354</td> <td> 0.725</td> <td>   -0.086</td> <td>    0.060</td>\n",
       "</tr>\n",
       "<tr>\n",
       "  <th>x5</th>    <td>    0.1023</td> <td>    0.055</td> <td>    1.868</td> <td> 0.068</td> <td>   -0.008</td> <td>    0.213</td>\n",
       "</tr>\n",
       "</table>\n",
       "<table class=\"simpletable\">\n",
       "<tr>\n",
       "  <th>Omnibus:</th>       <td>12.594</td> <th>  Durbin-Watson:     </th> <td>   1.378</td>\n",
       "</tr>\n",
       "<tr>\n",
       "  <th>Prob(Omnibus):</th> <td> 0.002</td> <th>  Jarque-Bera (JB):  </th> <td>  16.322</td>\n",
       "</tr>\n",
       "<tr>\n",
       "  <th>Skew:</th>          <td>-0.852</td> <th>  Prob(JB):          </th> <td>0.000286</td>\n",
       "</tr>\n",
       "<tr>\n",
       "  <th>Kurtosis:</th>      <td> 5.220</td> <th>  Cond. No.          </th> <td>     inf</td>\n",
       "</tr>\n",
       "</table><br/><br/>Warnings:<br/>[1] Standard Errors assume that the covariance matrix of the errors is correctly specified.<br/>[2] The smallest eigenvalue is      0. This might indicate that there are<br/>strong multicollinearity problems or that the design matrix is singular."
      ],
      "text/plain": [
       "<class 'statsmodels.iolib.summary.Summary'>\n",
       "\"\"\"\n",
       "                            OLS Regression Results                            \n",
       "==============================================================================\n",
       "Dep. Variable:                      y   R-squared:                       0.948\n",
       "Model:                            OLS   Adj. R-squared:                  0.943\n",
       "Method:                 Least Squares   F-statistic:                     165.7\n",
       "Date:                Sun, 21 Apr 2019   Prob (F-statistic):           8.46e-28\n",
       "Time:                        14:23:39   Log-Likelihood:                 3.1950\n",
       "No. Observations:                  50   AIC:                             3.610\n",
       "Df Residuals:                      45   BIC:                             13.17\n",
       "Df Model:                           5                                         \n",
       "Covariance Type:            nonrobust                                         \n",
       "==============================================================================\n",
       "                 coef    std err          t      P>|t|      [0.025      0.975]\n",
       "------------------------------------------------------------------------------\n",
       "const               0          0        nan        nan           0           0\n",
       "x1             0.0117      0.041      0.287      0.775      -0.070       0.093\n",
       "x2             0.0059      0.040      0.149      0.883      -0.074       0.086\n",
       "x3             0.8983      0.056     16.140      0.000       0.786       1.010\n",
       "x4            -0.0128      0.036     -0.354      0.725      -0.086       0.060\n",
       "x5             0.1023      0.055      1.868      0.068      -0.008       0.213\n",
       "==============================================================================\n",
       "Omnibus:                       12.594   Durbin-Watson:                   1.378\n",
       "Prob(Omnibus):                  0.002   Jarque-Bera (JB):               16.322\n",
       "Skew:                          -0.852   Prob(JB):                     0.000286\n",
       "Kurtosis:                       5.220   Cond. No.                          inf\n",
       "==============================================================================\n",
       "\n",
       "Warnings:\n",
       "[1] Standard Errors assume that the covariance matrix of the errors is correctly specified.\n",
       "[2] The smallest eigenvalue is      0. This might indicate that there are\n",
       "strong multicollinearity problems or that the design matrix is singular.\n",
       "\"\"\""
      ]
     },
     "execution_count": 38,
     "metadata": {},
     "output_type": "execute_result"
    }
   ],
   "source": [
    "regressor.summary()"
   ]
  },
  {
   "cell_type": "code",
   "execution_count": 39,
   "metadata": {},
   "outputs": [],
   "source": [
    "X = X.drop([\"OHE2\"],axis=1)"
   ]
  },
  {
   "cell_type": "code",
   "execution_count": 40,
   "metadata": {},
   "outputs": [
    {
     "data": {
      "text/html": [
       "<div>\n",
       "<style scoped>\n",
       "    .dataframe tbody tr th:only-of-type {\n",
       "        vertical-align: middle;\n",
       "    }\n",
       "\n",
       "    .dataframe tbody tr th {\n",
       "        vertical-align: top;\n",
       "    }\n",
       "\n",
       "    .dataframe thead th {\n",
       "        text-align: right;\n",
       "    }\n",
       "</style>\n",
       "<table border=\"1\" class=\"dataframe\">\n",
       "  <thead>\n",
       "    <tr style=\"text-align: right;\">\n",
       "      <th></th>\n",
       "      <th>const</th>\n",
       "      <th>OHE1</th>\n",
       "      <th>R&amp;D</th>\n",
       "      <th>Admin</th>\n",
       "      <th>Marketing</th>\n",
       "    </tr>\n",
       "  </thead>\n",
       "  <tbody>\n",
       "    <tr>\n",
       "      <th>0</th>\n",
       "      <td>0.0</td>\n",
       "      <td>-0.717741</td>\n",
       "      <td>2.011531</td>\n",
       "      <td>0.561826</td>\n",
       "      <td>2.187271</td>\n",
       "    </tr>\n",
       "    <tr>\n",
       "      <th>1</th>\n",
       "      <td>0.0</td>\n",
       "      <td>1.393261</td>\n",
       "      <td>1.950880</td>\n",
       "      <td>1.083894</td>\n",
       "      <td>1.949436</td>\n",
       "    </tr>\n",
       "    <tr>\n",
       "      <th>2</th>\n",
       "      <td>0.0</td>\n",
       "      <td>-0.717741</td>\n",
       "      <td>1.749052</td>\n",
       "      <td>-0.727219</td>\n",
       "      <td>1.642701</td>\n",
       "    </tr>\n",
       "    <tr>\n",
       "      <th>3</th>\n",
       "      <td>0.0</td>\n",
       "      <td>-0.717741</td>\n",
       "      <td>1.549143</td>\n",
       "      <td>-0.095309</td>\n",
       "      <td>1.431738</td>\n",
       "    </tr>\n",
       "    <tr>\n",
       "      <th>4</th>\n",
       "      <td>0.0</td>\n",
       "      <td>-0.717741</td>\n",
       "      <td>1.499214</td>\n",
       "      <td>-1.078891</td>\n",
       "      <td>1.286479</td>\n",
       "    </tr>\n",
       "  </tbody>\n",
       "</table>\n",
       "</div>"
      ],
      "text/plain": [
       "   const      OHE1       R&D     Admin  Marketing\n",
       "0    0.0 -0.717741  2.011531  0.561826   2.187271\n",
       "1    0.0  1.393261  1.950880  1.083894   1.949436\n",
       "2    0.0 -0.717741  1.749052 -0.727219   1.642701\n",
       "3    0.0 -0.717741  1.549143 -0.095309   1.431738\n",
       "4    0.0 -0.717741  1.499214 -1.078891   1.286479"
      ]
     },
     "execution_count": 40,
     "metadata": {},
     "output_type": "execute_result"
    }
   ],
   "source": [
    "X.head()"
   ]
  },
  {
   "cell_type": "code",
   "execution_count": 41,
   "metadata": {},
   "outputs": [
    {
     "data": {
      "text/html": [
       "<table class=\"simpletable\">\n",
       "<caption>OLS Regression Results</caption>\n",
       "<tr>\n",
       "  <th>Dep. Variable:</th>            <td>y</td>        <th>  R-squared:         </th> <td>   0.948</td>\n",
       "</tr>\n",
       "<tr>\n",
       "  <th>Model:</th>                   <td>OLS</td>       <th>  Adj. R-squared:    </th> <td>   0.944</td>\n",
       "</tr>\n",
       "<tr>\n",
       "  <th>Method:</th>             <td>Least Squares</td>  <th>  F-statistic:       </th> <td>   211.6</td>\n",
       "</tr>\n",
       "<tr>\n",
       "  <th>Date:</th>             <td>Sun, 21 Apr 2019</td> <th>  Prob (F-statistic):</th> <td>5.49e-29</td>\n",
       "</tr>\n",
       "<tr>\n",
       "  <th>Time:</th>                 <td>14:23:40</td>     <th>  Log-Likelihood:    </th> <td>  3.1827</td>\n",
       "</tr>\n",
       "<tr>\n",
       "  <th>No. Observations:</th>      <td>    50</td>      <th>  AIC:               </th> <td>   1.635</td>\n",
       "</tr>\n",
       "<tr>\n",
       "  <th>Df Residuals:</th>          <td>    46</td>      <th>  BIC:               </th> <td>   9.283</td>\n",
       "</tr>\n",
       "<tr>\n",
       "  <th>Df Model:</th>              <td>     4</td>      <th>                     </th>     <td> </td>   \n",
       "</tr>\n",
       "<tr>\n",
       "  <th>Covariance Type:</th>      <td>nonrobust</td>    <th>                     </th>     <td> </td>   \n",
       "</tr>\n",
       "</table>\n",
       "<table class=\"simpletable\">\n",
       "<tr>\n",
       "      <td></td>         <th>coef</th>     <th>std err</th>      <th>t</th>      <th>P>|t|</th>  <th>[0.025</th>    <th>0.975]</th>  \n",
       "</tr>\n",
       "<tr>\n",
       "  <th>const</th>     <td>         0</td> <td>        0</td> <td>      nan</td> <td>   nan</td> <td>        0</td> <td>        0</td>\n",
       "</tr>\n",
       "<tr>\n",
       "  <th>OHE1</th>      <td>    0.0085</td> <td>    0.034</td> <td>    0.249</td> <td> 0.805</td> <td>   -0.060</td> <td>    0.077</td>\n",
       "</tr>\n",
       "<tr>\n",
       "  <th>R&D</th>       <td>    0.8986</td> <td>    0.055</td> <td>   16.336</td> <td> 0.000</td> <td>    0.788</td> <td>    1.009</td>\n",
       "</tr>\n",
       "<tr>\n",
       "  <th>Admin</th>     <td>   -0.0129</td> <td>    0.036</td> <td>   -0.361</td> <td> 0.720</td> <td>   -0.085</td> <td>    0.059</td>\n",
       "</tr>\n",
       "<tr>\n",
       "  <th>Marketing</th> <td>    0.1015</td> <td>    0.054</td> <td>    1.882</td> <td> 0.066</td> <td>   -0.007</td> <td>    0.210</td>\n",
       "</tr>\n",
       "</table>\n",
       "<table class=\"simpletable\">\n",
       "<tr>\n",
       "  <th>Omnibus:</th>       <td>12.659</td> <th>  Durbin-Watson:     </th> <td>   1.383</td>\n",
       "</tr>\n",
       "<tr>\n",
       "  <th>Prob(Omnibus):</th> <td> 0.002</td> <th>  Jarque-Bera (JB):  </th> <td>  16.451</td>\n",
       "</tr>\n",
       "<tr>\n",
       "  <th>Skew:</th>          <td>-0.856</td> <th>  Prob(JB):          </th> <td>0.000268</td>\n",
       "</tr>\n",
       "<tr>\n",
       "  <th>Kurtosis:</th>      <td> 5.229</td> <th>  Cond. No.          </th> <td>     inf</td>\n",
       "</tr>\n",
       "</table><br/><br/>Warnings:<br/>[1] Standard Errors assume that the covariance matrix of the errors is correctly specified.<br/>[2] The smallest eigenvalue is      0. This might indicate that there are<br/>strong multicollinearity problems or that the design matrix is singular."
      ],
      "text/plain": [
       "<class 'statsmodels.iolib.summary.Summary'>\n",
       "\"\"\"\n",
       "                            OLS Regression Results                            \n",
       "==============================================================================\n",
       "Dep. Variable:                      y   R-squared:                       0.948\n",
       "Model:                            OLS   Adj. R-squared:                  0.944\n",
       "Method:                 Least Squares   F-statistic:                     211.6\n",
       "Date:                Sun, 21 Apr 2019   Prob (F-statistic):           5.49e-29\n",
       "Time:                        14:23:40   Log-Likelihood:                 3.1827\n",
       "No. Observations:                  50   AIC:                             1.635\n",
       "Df Residuals:                      46   BIC:                             9.283\n",
       "Df Model:                           4                                         \n",
       "Covariance Type:            nonrobust                                         \n",
       "==============================================================================\n",
       "                 coef    std err          t      P>|t|      [0.025      0.975]\n",
       "------------------------------------------------------------------------------\n",
       "const               0          0        nan        nan           0           0\n",
       "OHE1           0.0085      0.034      0.249      0.805      -0.060       0.077\n",
       "R&D            0.8986      0.055     16.336      0.000       0.788       1.009\n",
       "Admin         -0.0129      0.036     -0.361      0.720      -0.085       0.059\n",
       "Marketing      0.1015      0.054      1.882      0.066      -0.007       0.210\n",
       "==============================================================================\n",
       "Omnibus:                       12.659   Durbin-Watson:                   1.383\n",
       "Prob(Omnibus):                  0.002   Jarque-Bera (JB):               16.451\n",
       "Skew:                          -0.856   Prob(JB):                     0.000268\n",
       "Kurtosis:                       5.229   Cond. No.                          inf\n",
       "==============================================================================\n",
       "\n",
       "Warnings:\n",
       "[1] Standard Errors assume that the covariance matrix of the errors is correctly specified.\n",
       "[2] The smallest eigenvalue is      0. This might indicate that there are\n",
       "strong multicollinearity problems or that the design matrix is singular.\n",
       "\"\"\""
      ]
     },
     "execution_count": 41,
     "metadata": {},
     "output_type": "execute_result"
    }
   ],
   "source": [
    "regressor = sm.OLS(endog=Y,exog=X).fit()\n",
    "regressor.summary()"
   ]
  },
  {
   "cell_type": "code",
   "execution_count": 42,
   "metadata": {},
   "outputs": [],
   "source": [
    "X = X.drop([\"OHE1\"],axis=1)"
   ]
  },
  {
   "cell_type": "code",
   "execution_count": 43,
   "metadata": {},
   "outputs": [
    {
     "data": {
      "text/html": [
       "<div>\n",
       "<style scoped>\n",
       "    .dataframe tbody tr th:only-of-type {\n",
       "        vertical-align: middle;\n",
       "    }\n",
       "\n",
       "    .dataframe tbody tr th {\n",
       "        vertical-align: top;\n",
       "    }\n",
       "\n",
       "    .dataframe thead th {\n",
       "        text-align: right;\n",
       "    }\n",
       "</style>\n",
       "<table border=\"1\" class=\"dataframe\">\n",
       "  <thead>\n",
       "    <tr style=\"text-align: right;\">\n",
       "      <th></th>\n",
       "      <th>const</th>\n",
       "      <th>R&amp;D</th>\n",
       "      <th>Admin</th>\n",
       "      <th>Marketing</th>\n",
       "    </tr>\n",
       "  </thead>\n",
       "  <tbody>\n",
       "    <tr>\n",
       "      <th>0</th>\n",
       "      <td>0.0</td>\n",
       "      <td>2.011531</td>\n",
       "      <td>0.561826</td>\n",
       "      <td>2.187271</td>\n",
       "    </tr>\n",
       "    <tr>\n",
       "      <th>1</th>\n",
       "      <td>0.0</td>\n",
       "      <td>1.950880</td>\n",
       "      <td>1.083894</td>\n",
       "      <td>1.949436</td>\n",
       "    </tr>\n",
       "    <tr>\n",
       "      <th>2</th>\n",
       "      <td>0.0</td>\n",
       "      <td>1.749052</td>\n",
       "      <td>-0.727219</td>\n",
       "      <td>1.642701</td>\n",
       "    </tr>\n",
       "    <tr>\n",
       "      <th>3</th>\n",
       "      <td>0.0</td>\n",
       "      <td>1.549143</td>\n",
       "      <td>-0.095309</td>\n",
       "      <td>1.431738</td>\n",
       "    </tr>\n",
       "    <tr>\n",
       "      <th>4</th>\n",
       "      <td>0.0</td>\n",
       "      <td>1.499214</td>\n",
       "      <td>-1.078891</td>\n",
       "      <td>1.286479</td>\n",
       "    </tr>\n",
       "  </tbody>\n",
       "</table>\n",
       "</div>"
      ],
      "text/plain": [
       "   const       R&D     Admin  Marketing\n",
       "0    0.0  2.011531  0.561826   2.187271\n",
       "1    0.0  1.950880  1.083894   1.949436\n",
       "2    0.0  1.749052 -0.727219   1.642701\n",
       "3    0.0  1.549143 -0.095309   1.431738\n",
       "4    0.0  1.499214 -1.078891   1.286479"
      ]
     },
     "execution_count": 43,
     "metadata": {},
     "output_type": "execute_result"
    }
   ],
   "source": [
    "X.head()"
   ]
  },
  {
   "cell_type": "code",
   "execution_count": 44,
   "metadata": {},
   "outputs": [
    {
     "data": {
      "text/html": [
       "<table class=\"simpletable\">\n",
       "<caption>OLS Regression Results</caption>\n",
       "<tr>\n",
       "  <th>Dep. Variable:</th>            <td>y</td>        <th>  R-squared:         </th> <td>   0.948</td>\n",
       "</tr>\n",
       "<tr>\n",
       "  <th>Model:</th>                   <td>OLS</td>       <th>  Adj. R-squared:    </th> <td>   0.945</td>\n",
       "</tr>\n",
       "<tr>\n",
       "  <th>Method:</th>             <td>Least Squares</td>  <th>  F-statistic:       </th> <td>   287.8</td>\n",
       "</tr>\n",
       "<tr>\n",
       "  <th>Date:</th>             <td>Sun, 21 Apr 2019</td> <th>  Prob (F-statistic):</th> <td>3.06e-30</td>\n",
       "</tr>\n",
       "<tr>\n",
       "  <th>Time:</th>                 <td>14:23:42</td>     <th>  Log-Likelihood:    </th> <td>  3.1491</td>\n",
       "</tr>\n",
       "<tr>\n",
       "  <th>No. Observations:</th>      <td>    50</td>      <th>  AIC:               </th> <td> -0.2981</td>\n",
       "</tr>\n",
       "<tr>\n",
       "  <th>Df Residuals:</th>          <td>    47</td>      <th>  BIC:               </th> <td>   5.438</td>\n",
       "</tr>\n",
       "<tr>\n",
       "  <th>Df Model:</th>              <td>     3</td>      <th>                     </th>     <td> </td>   \n",
       "</tr>\n",
       "<tr>\n",
       "  <th>Covariance Type:</th>      <td>nonrobust</td>    <th>                     </th>     <td> </td>   \n",
       "</tr>\n",
       "</table>\n",
       "<table class=\"simpletable\">\n",
       "<tr>\n",
       "      <td></td>         <th>coef</th>     <th>std err</th>      <th>t</th>      <th>P>|t|</th>  <th>[0.025</th>    <th>0.975]</th>  \n",
       "</tr>\n",
       "<tr>\n",
       "  <th>const</th>     <td>         0</td> <td>        0</td> <td>      nan</td> <td>   nan</td> <td>        0</td> <td>        0</td>\n",
       "</tr>\n",
       "<tr>\n",
       "  <th>R&D</th>       <td>    0.8988</td> <td>    0.054</td> <td>   16.505</td> <td> 0.000</td> <td>    0.789</td> <td>    1.008</td>\n",
       "</tr>\n",
       "<tr>\n",
       "  <th>Admin</th>     <td>   -0.0131</td> <td>    0.035</td> <td>   -0.368</td> <td> 0.714</td> <td>   -0.084</td> <td>    0.058</td>\n",
       "</tr>\n",
       "<tr>\n",
       "  <th>Marketing</th> <td>    0.0997</td> <td>    0.053</td> <td>    1.885</td> <td> 0.066</td> <td>   -0.007</td> <td>    0.206</td>\n",
       "</tr>\n",
       "</table>\n",
       "<table class=\"simpletable\">\n",
       "<tr>\n",
       "  <th>Omnibus:</th>       <td>12.173</td> <th>  Durbin-Watson:     </th> <td>   1.378</td>\n",
       "</tr>\n",
       "<tr>\n",
       "  <th>Prob(Omnibus):</th> <td> 0.002</td> <th>  Jarque-Bera (JB):  </th> <td>  14.899</td>\n",
       "</tr>\n",
       "<tr>\n",
       "  <th>Skew:</th>          <td>-0.859</td> <th>  Prob(JB):          </th> <td>0.000582</td>\n",
       "</tr>\n",
       "<tr>\n",
       "  <th>Kurtosis:</th>      <td> 5.050</td> <th>  Cond. No.          </th> <td>     inf</td>\n",
       "</tr>\n",
       "</table><br/><br/>Warnings:<br/>[1] Standard Errors assume that the covariance matrix of the errors is correctly specified.<br/>[2] The smallest eigenvalue is      0. This might indicate that there are<br/>strong multicollinearity problems or that the design matrix is singular."
      ],
      "text/plain": [
       "<class 'statsmodels.iolib.summary.Summary'>\n",
       "\"\"\"\n",
       "                            OLS Regression Results                            \n",
       "==============================================================================\n",
       "Dep. Variable:                      y   R-squared:                       0.948\n",
       "Model:                            OLS   Adj. R-squared:                  0.945\n",
       "Method:                 Least Squares   F-statistic:                     287.8\n",
       "Date:                Sun, 21 Apr 2019   Prob (F-statistic):           3.06e-30\n",
       "Time:                        14:23:42   Log-Likelihood:                 3.1491\n",
       "No. Observations:                  50   AIC:                           -0.2981\n",
       "Df Residuals:                      47   BIC:                             5.438\n",
       "Df Model:                           3                                         \n",
       "Covariance Type:            nonrobust                                         \n",
       "==============================================================================\n",
       "                 coef    std err          t      P>|t|      [0.025      0.975]\n",
       "------------------------------------------------------------------------------\n",
       "const               0          0        nan        nan           0           0\n",
       "R&D            0.8988      0.054     16.505      0.000       0.789       1.008\n",
       "Admin         -0.0131      0.035     -0.368      0.714      -0.084       0.058\n",
       "Marketing      0.0997      0.053      1.885      0.066      -0.007       0.206\n",
       "==============================================================================\n",
       "Omnibus:                       12.173   Durbin-Watson:                   1.378\n",
       "Prob(Omnibus):                  0.002   Jarque-Bera (JB):               14.899\n",
       "Skew:                          -0.859   Prob(JB):                     0.000582\n",
       "Kurtosis:                       5.050   Cond. No.                          inf\n",
       "==============================================================================\n",
       "\n",
       "Warnings:\n",
       "[1] Standard Errors assume that the covariance matrix of the errors is correctly specified.\n",
       "[2] The smallest eigenvalue is      0. This might indicate that there are\n",
       "strong multicollinearity problems or that the design matrix is singular.\n",
       "\"\"\""
      ]
     },
     "execution_count": 44,
     "metadata": {},
     "output_type": "execute_result"
    }
   ],
   "source": [
    "regressor = sm.OLS(endog=Y,exog=X).fit()\n",
    "regressor.summary()"
   ]
  },
  {
   "cell_type": "code",
   "execution_count": 45,
   "metadata": {},
   "outputs": [],
   "source": [
    "X_opt = X.drop([\"Admin\"],axis=1)"
   ]
  },
  {
   "cell_type": "code",
   "execution_count": 46,
   "metadata": {},
   "outputs": [
    {
     "data": {
      "text/html": [
       "<div>\n",
       "<style scoped>\n",
       "    .dataframe tbody tr th:only-of-type {\n",
       "        vertical-align: middle;\n",
       "    }\n",
       "\n",
       "    .dataframe tbody tr th {\n",
       "        vertical-align: top;\n",
       "    }\n",
       "\n",
       "    .dataframe thead th {\n",
       "        text-align: right;\n",
       "    }\n",
       "</style>\n",
       "<table border=\"1\" class=\"dataframe\">\n",
       "  <thead>\n",
       "    <tr style=\"text-align: right;\">\n",
       "      <th></th>\n",
       "      <th>const</th>\n",
       "      <th>R&amp;D</th>\n",
       "      <th>Marketing</th>\n",
       "    </tr>\n",
       "  </thead>\n",
       "  <tbody>\n",
       "    <tr>\n",
       "      <th>0</th>\n",
       "      <td>0.0</td>\n",
       "      <td>2.011531</td>\n",
       "      <td>2.187271</td>\n",
       "    </tr>\n",
       "    <tr>\n",
       "      <th>1</th>\n",
       "      <td>0.0</td>\n",
       "      <td>1.950880</td>\n",
       "      <td>1.949436</td>\n",
       "    </tr>\n",
       "    <tr>\n",
       "      <th>2</th>\n",
       "      <td>0.0</td>\n",
       "      <td>1.749052</td>\n",
       "      <td>1.642701</td>\n",
       "    </tr>\n",
       "    <tr>\n",
       "      <th>3</th>\n",
       "      <td>0.0</td>\n",
       "      <td>1.549143</td>\n",
       "      <td>1.431738</td>\n",
       "    </tr>\n",
       "    <tr>\n",
       "      <th>4</th>\n",
       "      <td>0.0</td>\n",
       "      <td>1.499214</td>\n",
       "      <td>1.286479</td>\n",
       "    </tr>\n",
       "  </tbody>\n",
       "</table>\n",
       "</div>"
      ],
      "text/plain": [
       "   const       R&D  Marketing\n",
       "0    0.0  2.011531   2.187271\n",
       "1    0.0  1.950880   1.949436\n",
       "2    0.0  1.749052   1.642701\n",
       "3    0.0  1.549143   1.431738\n",
       "4    0.0  1.499214   1.286479"
      ]
     },
     "execution_count": 46,
     "metadata": {},
     "output_type": "execute_result"
    }
   ],
   "source": [
    "X_opt.head()"
   ]
  },
  {
   "cell_type": "code",
   "execution_count": 47,
   "metadata": {},
   "outputs": [
    {
     "data": {
      "text/html": [
       "<table class=\"simpletable\">\n",
       "<caption>OLS Regression Results</caption>\n",
       "<tr>\n",
       "  <th>Dep. Variable:</th>            <td>y</td>        <th>  R-squared:         </th> <td>   0.948</td>\n",
       "</tr>\n",
       "<tr>\n",
       "  <th>Model:</th>                   <td>OLS</td>       <th>  Adj. R-squared:    </th> <td>   0.946</td>\n",
       "</tr>\n",
       "<tr>\n",
       "  <th>Method:</th>             <td>Least Squares</td>  <th>  F-statistic:       </th> <td>   439.6</td>\n",
       "</tr>\n",
       "<tr>\n",
       "  <th>Date:</th>             <td>Sun, 21 Apr 2019</td> <th>  Prob (F-statistic):</th> <td>1.37e-31</td>\n",
       "</tr>\n",
       "<tr>\n",
       "  <th>Time:</th>                 <td>14:23:43</td>     <th>  Log-Likelihood:    </th> <td>  3.0770</td>\n",
       "</tr>\n",
       "<tr>\n",
       "  <th>No. Observations:</th>      <td>    50</td>      <th>  AIC:               </th> <td>  -2.154</td>\n",
       "</tr>\n",
       "<tr>\n",
       "  <th>Df Residuals:</th>          <td>    48</td>      <th>  BIC:               </th> <td>   1.670</td>\n",
       "</tr>\n",
       "<tr>\n",
       "  <th>Df Model:</th>              <td>     2</td>      <th>                     </th>     <td> </td>   \n",
       "</tr>\n",
       "<tr>\n",
       "  <th>Covariance Type:</th>      <td>nonrobust</td>    <th>                     </th>     <td> </td>   \n",
       "</tr>\n",
       "</table>\n",
       "<table class=\"simpletable\">\n",
       "<tr>\n",
       "      <td></td>         <th>coef</th>     <th>std err</th>      <th>t</th>      <th>P>|t|</th>  <th>[0.025</th>    <th>0.975]</th>  \n",
       "</tr>\n",
       "<tr>\n",
       "  <th>const</th>     <td>         0</td> <td>        0</td> <td>      nan</td> <td>   nan</td> <td>        0</td> <td>        0</td>\n",
       "</tr>\n",
       "<tr>\n",
       "  <th>R&D</th>       <td>    0.8917</td> <td>    0.050</td> <td>   17.669</td> <td> 0.000</td> <td>    0.790</td> <td>    0.993</td>\n",
       "</tr>\n",
       "<tr>\n",
       "  <th>Marketing</th> <td>    0.1050</td> <td>    0.050</td> <td>    2.081</td> <td> 0.043</td> <td>    0.004</td> <td>    0.206</td>\n",
       "</tr>\n",
       "</table>\n",
       "<table class=\"simpletable\">\n",
       "<tr>\n",
       "  <th>Omnibus:</th>       <td>12.039</td> <th>  Durbin-Watson:     </th> <td>   1.354</td>\n",
       "</tr>\n",
       "<tr>\n",
       "  <th>Prob(Omnibus):</th> <td> 0.002</td> <th>  Jarque-Bera (JB):  </th> <td>  14.742</td>\n",
       "</tr>\n",
       "<tr>\n",
       "  <th>Skew:</th>          <td>-0.848</td> <th>  Prob(JB):          </th> <td>0.000629</td>\n",
       "</tr>\n",
       "<tr>\n",
       "  <th>Kurtosis:</th>      <td> 5.050</td> <th>  Cond. No.          </th> <td>     inf</td>\n",
       "</tr>\n",
       "</table><br/><br/>Warnings:<br/>[1] Standard Errors assume that the covariance matrix of the errors is correctly specified.<br/>[2] The smallest eigenvalue is      0. This might indicate that there are<br/>strong multicollinearity problems or that the design matrix is singular."
      ],
      "text/plain": [
       "<class 'statsmodels.iolib.summary.Summary'>\n",
       "\"\"\"\n",
       "                            OLS Regression Results                            \n",
       "==============================================================================\n",
       "Dep. Variable:                      y   R-squared:                       0.948\n",
       "Model:                            OLS   Adj. R-squared:                  0.946\n",
       "Method:                 Least Squares   F-statistic:                     439.6\n",
       "Date:                Sun, 21 Apr 2019   Prob (F-statistic):           1.37e-31\n",
       "Time:                        14:23:43   Log-Likelihood:                 3.0770\n",
       "No. Observations:                  50   AIC:                            -2.154\n",
       "Df Residuals:                      48   BIC:                             1.670\n",
       "Df Model:                           2                                         \n",
       "Covariance Type:            nonrobust                                         \n",
       "==============================================================================\n",
       "                 coef    std err          t      P>|t|      [0.025      0.975]\n",
       "------------------------------------------------------------------------------\n",
       "const               0          0        nan        nan           0           0\n",
       "R&D            0.8917      0.050     17.669      0.000       0.790       0.993\n",
       "Marketing      0.1050      0.050      2.081      0.043       0.004       0.206\n",
       "==============================================================================\n",
       "Omnibus:                       12.039   Durbin-Watson:                   1.354\n",
       "Prob(Omnibus):                  0.002   Jarque-Bera (JB):               14.742\n",
       "Skew:                          -0.848   Prob(JB):                     0.000629\n",
       "Kurtosis:                       5.050   Cond. No.                          inf\n",
       "==============================================================================\n",
       "\n",
       "Warnings:\n",
       "[1] Standard Errors assume that the covariance matrix of the errors is correctly specified.\n",
       "[2] The smallest eigenvalue is      0. This might indicate that there are\n",
       "strong multicollinearity problems or that the design matrix is singular.\n",
       "\"\"\""
      ]
     },
     "execution_count": 47,
     "metadata": {},
     "output_type": "execute_result"
    }
   ],
   "source": [
    "regressor = sm.OLS(endog=Y,exog=X_opt).fit()\n",
    "regressor.summary()"
   ]
  },
  {
   "cell_type": "code",
   "execution_count": 48,
   "metadata": {},
   "outputs": [],
   "source": [
    "X_opt = X_opt.drop([\"const\"],axis=1)"
   ]
  },
  {
   "cell_type": "code",
   "execution_count": 49,
   "metadata": {},
   "outputs": [
    {
     "data": {
      "text/plain": [
       "(array([-7.5153816e-16]), array([[0.89165432, 0.10499178]]))"
      ]
     },
     "execution_count": 49,
     "metadata": {},
     "output_type": "execute_result"
    }
   ],
   "source": [
    "\n",
    "regressor_LG = LinearRegression()\n",
    "regressor_LG.fit(X_opt,Y)\n",
    "regressor_LG.intercept_,regressor_LG.coef_"
   ]
  },
  {
   "cell_type": "code",
   "execution_count": 50,
   "metadata": {},
   "outputs": [],
   "source": [
    "y_pred_sm = regressor_LG.predict(X_opt)"
   ]
  },
  {
   "cell_type": "code",
   "execution_count": 51,
   "metadata": {},
   "outputs": [
    {
     "data": {
      "text/plain": [
       "0.051769447724244994"
      ]
     },
     "execution_count": 51,
     "metadata": {},
     "output_type": "execute_result"
    }
   ],
   "source": [
    "eva.mean_squared_error(Y,y_pred_sm)"
   ]
  },
  {
   "cell_type": "code",
   "execution_count": 52,
   "metadata": {},
   "outputs": [
    {
     "data": {
      "text/plain": [
       "0.948230552275755"
      ]
     },
     "execution_count": 52,
     "metadata": {},
     "output_type": "execute_result"
    }
   ],
   "source": [
    "eva.r2_score(Y,y_pred_sm)"
   ]
  },
  {
   "cell_type": "code",
   "execution_count": 53,
   "metadata": {},
   "outputs": [
    {
     "data": {
      "text/plain": [
       "0.9460275970534467"
      ]
     },
     "execution_count": 53,
     "metadata": {},
     "output_type": "execute_result"
    }
   ],
   "source": [
    "1 - (1-eva.r2_score(Y,y_pred_sm))*((Y.shape[0]-1)/(Y.shape[0]-X_opt.shape[1]-1))"
   ]
  },
  {
   "cell_type": "code",
   "execution_count": 54,
   "metadata": {},
   "outputs": [
    {
     "name": "stderr",
     "output_type": "stream",
     "text": [
      "c:\\users\\lenovo_pc\\appdata\\local\\programs\\python\\python37\\lib\\site-packages\\statsmodels\\regression\\linear_model.py:1633: RuntimeWarning: divide by zero encountered in double_scalars\n",
      "  return np.sqrt(eigvals[0]/eigvals[-1])\n",
      "c:\\users\\lenovo_pc\\appdata\\local\\programs\\python\\python37\\lib\\site-packages\\statsmodels\\base\\model.py:1100: RuntimeWarning: invalid value encountered in true_divide\n",
      "  return self.params / self.bse\n",
      "c:\\users\\lenovo_pc\\appdata\\local\\programs\\python\\python37\\lib\\site-packages\\scipy\\stats\\_distn_infrastructure.py:877: RuntimeWarning: invalid value encountered in greater\n",
      "  return (self.a < x) & (x < self.b)\n",
      "c:\\users\\lenovo_pc\\appdata\\local\\programs\\python\\python37\\lib\\site-packages\\scipy\\stats\\_distn_infrastructure.py:877: RuntimeWarning: invalid value encountered in less\n",
      "  return (self.a < x) & (x < self.b)\n",
      "c:\\users\\lenovo_pc\\appdata\\local\\programs\\python\\python37\\lib\\site-packages\\scipy\\stats\\_distn_infrastructure.py:1831: RuntimeWarning: invalid value encountered in less_equal\n",
      "  cond2 = cond0 & (x <= self.a)\n"
     ]
    },
    {
     "data": {
      "text/html": [
       "<table class=\"simpletable\">\n",
       "<caption>OLS Regression Results</caption>\n",
       "<tr>\n",
       "  <th>Dep. Variable:</th>            <td>y</td>        <th>  R-squared:         </th> <td>   0.948</td>\n",
       "</tr>\n",
       "<tr>\n",
       "  <th>Model:</th>                   <td>OLS</td>       <th>  Adj. R-squared:    </th> <td>   0.945</td>\n",
       "</tr>\n",
       "<tr>\n",
       "  <th>Method:</th>             <td>Least Squares</td>  <th>  F-statistic:       </th> <td>   287.8</td>\n",
       "</tr>\n",
       "<tr>\n",
       "  <th>Date:</th>             <td>Sun, 21 Apr 2019</td> <th>  Prob (F-statistic):</th> <td>3.06e-30</td>\n",
       "</tr>\n",
       "<tr>\n",
       "  <th>Time:</th>                 <td>14:23:45</td>     <th>  Log-Likelihood:    </th> <td>  3.1491</td>\n",
       "</tr>\n",
       "<tr>\n",
       "  <th>No. Observations:</th>      <td>    50</td>      <th>  AIC:               </th> <td> -0.2981</td>\n",
       "</tr>\n",
       "<tr>\n",
       "  <th>Df Residuals:</th>          <td>    47</td>      <th>  BIC:               </th> <td>   5.438</td>\n",
       "</tr>\n",
       "<tr>\n",
       "  <th>Df Model:</th>              <td>     3</td>      <th>                     </th>     <td> </td>   \n",
       "</tr>\n",
       "<tr>\n",
       "  <th>Covariance Type:</th>      <td>nonrobust</td>    <th>                     </th>     <td> </td>   \n",
       "</tr>\n",
       "</table>\n",
       "<table class=\"simpletable\">\n",
       "<tr>\n",
       "      <td></td>         <th>coef</th>     <th>std err</th>      <th>t</th>      <th>P>|t|</th>  <th>[0.025</th>    <th>0.975]</th>  \n",
       "</tr>\n",
       "<tr>\n",
       "  <th>const</th>     <td>         0</td> <td>        0</td> <td>      nan</td> <td>   nan</td> <td>        0</td> <td>        0</td>\n",
       "</tr>\n",
       "<tr>\n",
       "  <th>R&D</th>       <td>    0.8988</td> <td>    0.054</td> <td>   16.505</td> <td> 0.000</td> <td>    0.789</td> <td>    1.008</td>\n",
       "</tr>\n",
       "<tr>\n",
       "  <th>Admin</th>     <td>   -0.0131</td> <td>    0.035</td> <td>   -0.368</td> <td> 0.714</td> <td>   -0.084</td> <td>    0.058</td>\n",
       "</tr>\n",
       "<tr>\n",
       "  <th>Marketing</th> <td>    0.0997</td> <td>    0.053</td> <td>    1.885</td> <td> 0.066</td> <td>   -0.007</td> <td>    0.206</td>\n",
       "</tr>\n",
       "</table>\n",
       "<table class=\"simpletable\">\n",
       "<tr>\n",
       "  <th>Omnibus:</th>       <td>12.173</td> <th>  Durbin-Watson:     </th> <td>   1.378</td>\n",
       "</tr>\n",
       "<tr>\n",
       "  <th>Prob(Omnibus):</th> <td> 0.002</td> <th>  Jarque-Bera (JB):  </th> <td>  14.899</td>\n",
       "</tr>\n",
       "<tr>\n",
       "  <th>Skew:</th>          <td>-0.859</td> <th>  Prob(JB):          </th> <td>0.000582</td>\n",
       "</tr>\n",
       "<tr>\n",
       "  <th>Kurtosis:</th>      <td> 5.050</td> <th>  Cond. No.          </th> <td>     inf</td>\n",
       "</tr>\n",
       "</table><br/><br/>Warnings:<br/>[1] Standard Errors assume that the covariance matrix of the errors is correctly specified.<br/>[2] The smallest eigenvalue is      0. This might indicate that there are<br/>strong multicollinearity problems or that the design matrix is singular."
      ],
      "text/plain": [
       "<class 'statsmodels.iolib.summary.Summary'>\n",
       "\"\"\"\n",
       "                            OLS Regression Results                            \n",
       "==============================================================================\n",
       "Dep. Variable:                      y   R-squared:                       0.948\n",
       "Model:                            OLS   Adj. R-squared:                  0.945\n",
       "Method:                 Least Squares   F-statistic:                     287.8\n",
       "Date:                Sun, 21 Apr 2019   Prob (F-statistic):           3.06e-30\n",
       "Time:                        14:23:45   Log-Likelihood:                 3.1491\n",
       "No. Observations:                  50   AIC:                           -0.2981\n",
       "Df Residuals:                      47   BIC:                             5.438\n",
       "Df Model:                           3                                         \n",
       "Covariance Type:            nonrobust                                         \n",
       "==============================================================================\n",
       "                 coef    std err          t      P>|t|      [0.025      0.975]\n",
       "------------------------------------------------------------------------------\n",
       "const               0          0        nan        nan           0           0\n",
       "R&D            0.8988      0.054     16.505      0.000       0.789       1.008\n",
       "Admin         -0.0131      0.035     -0.368      0.714      -0.084       0.058\n",
       "Marketing      0.0997      0.053      1.885      0.066      -0.007       0.206\n",
       "==============================================================================\n",
       "Omnibus:                       12.173   Durbin-Watson:                   1.378\n",
       "Prob(Omnibus):                  0.002   Jarque-Bera (JB):               14.899\n",
       "Skew:                          -0.859   Prob(JB):                     0.000582\n",
       "Kurtosis:                       5.050   Cond. No.                          inf\n",
       "==============================================================================\n",
       "\n",
       "Warnings:\n",
       "[1] Standard Errors assume that the covariance matrix of the errors is correctly specified.\n",
       "[2] The smallest eigenvalue is      0. This might indicate that there are\n",
       "strong multicollinearity problems or that the design matrix is singular.\n",
       "\"\"\""
      ]
     },
     "execution_count": 54,
     "metadata": {},
     "output_type": "execute_result"
    }
   ],
   "source": [
    "regressor = sm.OLS(endog=Y,exog=X).fit()\n",
    "regressor.summary()"
   ]
  },
  {
   "cell_type": "code",
   "execution_count": 55,
   "metadata": {
    "scrolled": true
   },
   "outputs": [
    {
     "data": {
      "text/plain": [
       "'Admin'"
      ]
     },
     "execution_count": 55,
     "metadata": {},
     "output_type": "execute_result"
    }
   ],
   "source": [
    " regressor.pvalues[regressor.pvalues == regressor.pvalues.max()].index[0]"
   ]
  },
  {
   "cell_type": "code",
   "execution_count": 56,
   "metadata": {},
   "outputs": [
    {
     "data": {
      "text/plain": [
       "3.4526432282626605e-21"
      ]
     },
     "execution_count": 56,
     "metadata": {},
     "output_type": "execute_result"
    }
   ],
   "source": [
    "regressor.pvalues[regressor.pvalues.max()>0.05]"
   ]
  },
  {
   "cell_type": "code",
   "execution_count": 57,
   "metadata": {},
   "outputs": [
    {
     "data": {
      "text/plain": [
       "3.4526432282626605e-21"
      ]
     },
     "execution_count": 57,
     "metadata": {},
     "output_type": "execute_result"
    }
   ],
   "source": [
    "regressor.pvalues[regressor.pvalues.max()>0.05]"
   ]
  },
  {
   "cell_type": "code",
   "execution_count": 58,
   "metadata": {},
   "outputs": [],
   "source": [
    "def dropPvalues(X,Y):\n",
    "    SL = 0.05\n",
    "    n = X.shape[1]\n",
    "    r2s = []\n",
    "    for i in range(0,n):\n",
    "        regressor = sm.OLS(endog=Y,exog=X).fit()\n",
    "        r2s.append(regressor.rsquared_adj)\n",
    "        if i != 0 and r2s[i] >= r2s[i-1]:\n",
    "            if regressor.pvalues.max()>0.05:\n",
    "                X = X.drop([regressor.pvalues[regressor.pvalues == regressor.pvalues.max()].index[0]],axis =1)\n",
    "    return X\n",
    "    "
   ]
  },
  {
   "cell_type": "code",
   "execution_count": 59,
   "metadata": {},
   "outputs": [],
   "source": [
    "newX = dropPvalues(X,Y)"
   ]
  },
  {
   "cell_type": "code",
   "execution_count": 60,
   "metadata": {},
   "outputs": [
    {
     "data": {
      "text/html": [
       "<div>\n",
       "<style scoped>\n",
       "    .dataframe tbody tr th:only-of-type {\n",
       "        vertical-align: middle;\n",
       "    }\n",
       "\n",
       "    .dataframe tbody tr th {\n",
       "        vertical-align: top;\n",
       "    }\n",
       "\n",
       "    .dataframe thead th {\n",
       "        text-align: right;\n",
       "    }\n",
       "</style>\n",
       "<table border=\"1\" class=\"dataframe\">\n",
       "  <thead>\n",
       "    <tr style=\"text-align: right;\">\n",
       "      <th></th>\n",
       "      <th>const</th>\n",
       "      <th>R&amp;D</th>\n",
       "      <th>Admin</th>\n",
       "      <th>Marketing</th>\n",
       "    </tr>\n",
       "  </thead>\n",
       "  <tbody>\n",
       "    <tr>\n",
       "      <th>0</th>\n",
       "      <td>0.0</td>\n",
       "      <td>2.011531</td>\n",
       "      <td>0.561826</td>\n",
       "      <td>2.187271</td>\n",
       "    </tr>\n",
       "    <tr>\n",
       "      <th>1</th>\n",
       "      <td>0.0</td>\n",
       "      <td>1.950880</td>\n",
       "      <td>1.083894</td>\n",
       "      <td>1.949436</td>\n",
       "    </tr>\n",
       "    <tr>\n",
       "      <th>2</th>\n",
       "      <td>0.0</td>\n",
       "      <td>1.749052</td>\n",
       "      <td>-0.727219</td>\n",
       "      <td>1.642701</td>\n",
       "    </tr>\n",
       "    <tr>\n",
       "      <th>3</th>\n",
       "      <td>0.0</td>\n",
       "      <td>1.549143</td>\n",
       "      <td>-0.095309</td>\n",
       "      <td>1.431738</td>\n",
       "    </tr>\n",
       "    <tr>\n",
       "      <th>4</th>\n",
       "      <td>0.0</td>\n",
       "      <td>1.499214</td>\n",
       "      <td>-1.078891</td>\n",
       "      <td>1.286479</td>\n",
       "    </tr>\n",
       "  </tbody>\n",
       "</table>\n",
       "</div>"
      ],
      "text/plain": [
       "   const       R&D     Admin  Marketing\n",
       "0    0.0  2.011531  0.561826   2.187271\n",
       "1    0.0  1.950880  1.083894   1.949436\n",
       "2    0.0  1.749052 -0.727219   1.642701\n",
       "3    0.0  1.549143 -0.095309   1.431738\n",
       "4    0.0  1.499214 -1.078891   1.286479"
      ]
     },
     "execution_count": 60,
     "metadata": {},
     "output_type": "execute_result"
    }
   ],
   "source": [
    "X.head()"
   ]
  },
  {
   "cell_type": "code",
   "execution_count": 61,
   "metadata": {},
   "outputs": [
    {
     "data": {
      "text/html": [
       "<div>\n",
       "<style scoped>\n",
       "    .dataframe tbody tr th:only-of-type {\n",
       "        vertical-align: middle;\n",
       "    }\n",
       "\n",
       "    .dataframe tbody tr th {\n",
       "        vertical-align: top;\n",
       "    }\n",
       "\n",
       "    .dataframe thead th {\n",
       "        text-align: right;\n",
       "    }\n",
       "</style>\n",
       "<table border=\"1\" class=\"dataframe\">\n",
       "  <thead>\n",
       "    <tr style=\"text-align: right;\">\n",
       "      <th></th>\n",
       "      <th>const</th>\n",
       "      <th>R&amp;D</th>\n",
       "      <th>Marketing</th>\n",
       "    </tr>\n",
       "  </thead>\n",
       "  <tbody>\n",
       "    <tr>\n",
       "      <th>0</th>\n",
       "      <td>0.0</td>\n",
       "      <td>2.011531</td>\n",
       "      <td>2.187271</td>\n",
       "    </tr>\n",
       "    <tr>\n",
       "      <th>1</th>\n",
       "      <td>0.0</td>\n",
       "      <td>1.950880</td>\n",
       "      <td>1.949436</td>\n",
       "    </tr>\n",
       "    <tr>\n",
       "      <th>2</th>\n",
       "      <td>0.0</td>\n",
       "      <td>1.749052</td>\n",
       "      <td>1.642701</td>\n",
       "    </tr>\n",
       "    <tr>\n",
       "      <th>3</th>\n",
       "      <td>0.0</td>\n",
       "      <td>1.549143</td>\n",
       "      <td>1.431738</td>\n",
       "    </tr>\n",
       "    <tr>\n",
       "      <th>4</th>\n",
       "      <td>0.0</td>\n",
       "      <td>1.499214</td>\n",
       "      <td>1.286479</td>\n",
       "    </tr>\n",
       "  </tbody>\n",
       "</table>\n",
       "</div>"
      ],
      "text/plain": [
       "   const       R&D  Marketing\n",
       "0    0.0  2.011531   2.187271\n",
       "1    0.0  1.950880   1.949436\n",
       "2    0.0  1.749052   1.642701\n",
       "3    0.0  1.549143   1.431738\n",
       "4    0.0  1.499214   1.286479"
      ]
     },
     "execution_count": 61,
     "metadata": {},
     "output_type": "execute_result"
    }
   ],
   "source": [
    "newX.head()"
   ]
  },
  {
   "cell_type": "code",
   "execution_count": 62,
   "metadata": {},
   "outputs": [
    {
     "data": {
      "text/plain": [
       "0.9450847750372431"
      ]
     },
     "execution_count": 62,
     "metadata": {},
     "output_type": "execute_result"
    }
   ],
   "source": [
    "regressor.rsquared_adj"
   ]
  },
  {
   "cell_type": "code",
   "execution_count": null,
   "metadata": {},
   "outputs": [],
   "source": []
  }
 ],
 "metadata": {
  "kernelspec": {
   "display_name": "Python 3",
   "language": "python",
   "name": "python3"
  },
  "language_info": {
   "codemirror_mode": {
    "name": "ipython",
    "version": 3
   },
   "file_extension": ".py",
   "mimetype": "text/x-python",
   "name": "python",
   "nbconvert_exporter": "python",
   "pygments_lexer": "ipython3",
   "version": "3.7.0b1"
  }
 },
 "nbformat": 4,
 "nbformat_minor": 2
}
