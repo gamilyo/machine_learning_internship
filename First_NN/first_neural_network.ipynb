{
 "cells": [
  {
   "cell_type": "code",
   "execution_count": 1,
   "metadata": {},
   "outputs": [
    {
     "name": "stderr",
     "output_type": "stream",
     "text": [
      "Using TensorFlow backend.\n"
     ]
    }
   ],
   "source": [
    "import numpy as np\n",
    "import pandas as pd\n",
    "import matplotlib.pyplot as plt\n",
    "import seaborn as sns\n",
    "from keras.models import Sequential\n",
    "from keras.layers import *\n",
    "import tensorflow as tf"
   ]
  },
  {
   "cell_type": "code",
   "execution_count": 2,
   "metadata": {},
   "outputs": [],
   "source": [
    "training_data_df = pd.read_csv(\"sales_data_training_scaled.csv\")"
   ]
  },
  {
   "cell_type": "code",
   "execution_count": 3,
   "metadata": {},
   "outputs": [
    {
     "data": {
      "text/html": [
       "<div>\n",
       "<style scoped>\n",
       "    .dataframe tbody tr th:only-of-type {\n",
       "        vertical-align: middle;\n",
       "    }\n",
       "\n",
       "    .dataframe tbody tr th {\n",
       "        vertical-align: top;\n",
       "    }\n",
       "\n",
       "    .dataframe thead th {\n",
       "        text-align: right;\n",
       "    }\n",
       "</style>\n",
       "<table border=\"1\" class=\"dataframe\">\n",
       "  <thead>\n",
       "    <tr style=\"text-align: right;\">\n",
       "      <th></th>\n",
       "      <th>critic_rating</th>\n",
       "      <th>is_action</th>\n",
       "      <th>is_exclusive_to_us</th>\n",
       "      <th>is_portable</th>\n",
       "      <th>is_role_playing</th>\n",
       "      <th>is_sequel</th>\n",
       "      <th>is_sports</th>\n",
       "      <th>suitable_for_kids</th>\n",
       "      <th>total_earnings</th>\n",
       "      <th>unit_price</th>\n",
       "    </tr>\n",
       "  </thead>\n",
       "  <tbody>\n",
       "    <tr>\n",
       "      <th>0</th>\n",
       "      <td>0.500000</td>\n",
       "      <td>1.0</td>\n",
       "      <td>0.0</td>\n",
       "      <td>1.0</td>\n",
       "      <td>0.0</td>\n",
       "      <td>1.0</td>\n",
       "      <td>0.0</td>\n",
       "      <td>0.0</td>\n",
       "      <td>0.374714</td>\n",
       "      <td>1.0</td>\n",
       "    </tr>\n",
       "    <tr>\n",
       "      <th>1</th>\n",
       "      <td>0.833333</td>\n",
       "      <td>0.0</td>\n",
       "      <td>0.0</td>\n",
       "      <td>0.0</td>\n",
       "      <td>0.0</td>\n",
       "      <td>1.0</td>\n",
       "      <td>1.0</td>\n",
       "      <td>0.0</td>\n",
       "      <td>0.192425</td>\n",
       "      <td>0.5</td>\n",
       "    </tr>\n",
       "    <tr>\n",
       "      <th>2</th>\n",
       "      <td>0.333333</td>\n",
       "      <td>0.0</td>\n",
       "      <td>0.0</td>\n",
       "      <td>0.0</td>\n",
       "      <td>0.0</td>\n",
       "      <td>1.0</td>\n",
       "      <td>1.0</td>\n",
       "      <td>0.0</td>\n",
       "      <td>0.114852</td>\n",
       "      <td>0.5</td>\n",
       "    </tr>\n",
       "    <tr>\n",
       "      <th>3</th>\n",
       "      <td>0.833333</td>\n",
       "      <td>1.0</td>\n",
       "      <td>0.0</td>\n",
       "      <td>0.0</td>\n",
       "      <td>0.0</td>\n",
       "      <td>0.0</td>\n",
       "      <td>0.0</td>\n",
       "      <td>1.0</td>\n",
       "      <td>0.142452</td>\n",
       "      <td>0.0</td>\n",
       "    </tr>\n",
       "    <tr>\n",
       "      <th>4</th>\n",
       "      <td>0.666667</td>\n",
       "      <td>1.0</td>\n",
       "      <td>0.0</td>\n",
       "      <td>1.0</td>\n",
       "      <td>0.0</td>\n",
       "      <td>1.0</td>\n",
       "      <td>0.0</td>\n",
       "      <td>1.0</td>\n",
       "      <td>0.480682</td>\n",
       "      <td>1.0</td>\n",
       "    </tr>\n",
       "  </tbody>\n",
       "</table>\n",
       "</div>"
      ],
      "text/plain": [
       "   critic_rating  is_action  is_exclusive_to_us  is_portable  is_role_playing  \\\n",
       "0       0.500000        1.0                 0.0          1.0              0.0   \n",
       "1       0.833333        0.0                 0.0          0.0              0.0   \n",
       "2       0.333333        0.0                 0.0          0.0              0.0   \n",
       "3       0.833333        1.0                 0.0          0.0              0.0   \n",
       "4       0.666667        1.0                 0.0          1.0              0.0   \n",
       "\n",
       "   is_sequel  is_sports  suitable_for_kids  total_earnings  unit_price  \n",
       "0        1.0        0.0                0.0        0.374714         1.0  \n",
       "1        1.0        1.0                0.0        0.192425         0.5  \n",
       "2        1.0        1.0                0.0        0.114852         0.5  \n",
       "3        0.0        0.0                1.0        0.142452         0.0  \n",
       "4        1.0        0.0                1.0        0.480682         1.0  "
      ]
     },
     "execution_count": 3,
     "metadata": {},
     "output_type": "execute_result"
    }
   ],
   "source": [
    "training_data_df.head()"
   ]
  },
  {
   "cell_type": "code",
   "execution_count": 4,
   "metadata": {},
   "outputs": [
    {
     "name": "stdout",
     "output_type": "stream",
     "text": [
      "<class 'pandas.core.frame.DataFrame'>\n",
      "RangeIndex: 1000 entries, 0 to 999\n",
      "Data columns (total 10 columns):\n",
      "critic_rating         1000 non-null float64\n",
      "is_action             1000 non-null float64\n",
      "is_exclusive_to_us    1000 non-null float64\n",
      "is_portable           1000 non-null float64\n",
      "is_role_playing       1000 non-null float64\n",
      "is_sequel             1000 non-null float64\n",
      "is_sports             1000 non-null float64\n",
      "suitable_for_kids     1000 non-null float64\n",
      "total_earnings        1000 non-null float64\n",
      "unit_price            1000 non-null float64\n",
      "dtypes: float64(10)\n",
      "memory usage: 78.2 KB\n"
     ]
    }
   ],
   "source": [
    "training_data_df.info()"
   ]
  },
  {
   "cell_type": "code",
   "execution_count": 5,
   "metadata": {},
   "outputs": [],
   "source": [
    "X = training_data_df.drop('total_earnings', axis=1).values\n",
    "Y = training_data_df[['total_earnings']].values"
   ]
  },
  {
   "cell_type": "code",
   "execution_count": 6,
   "metadata": {},
   "outputs": [
    {
     "data": {
      "text/plain": [
       "{'whiskers': [<matplotlib.lines.Line2D at 0xac9e5e9d68>,\n",
       "  <matplotlib.lines.Line2D at 0xac9e6013c8>,\n",
       "  <matplotlib.lines.Line2D at 0xac9e60d7f0>,\n",
       "  <matplotlib.lines.Line2D at 0xac9e60db38>,\n",
       "  <matplotlib.lines.Line2D at 0xaca5ae8f28>,\n",
       "  <matplotlib.lines.Line2D at 0xaca5af02b0>,\n",
       "  <matplotlib.lines.Line2D at 0xaca5afb6a0>,\n",
       "  <matplotlib.lines.Line2D at 0xaca5afb9e8>,\n",
       "  <matplotlib.lines.Line2D at 0xaca5b05dd8>,\n",
       "  <matplotlib.lines.Line2D at 0xaca5b05eb8>,\n",
       "  <matplotlib.lines.Line2D at 0xaca5b18550>,\n",
       "  <matplotlib.lines.Line2D at 0xaca5b18898>,\n",
       "  <matplotlib.lines.Line2D at 0xaca5b22c88>,\n",
       "  <matplotlib.lines.Line2D at 0xaca5b22fd0>,\n",
       "  <matplotlib.lines.Line2D at 0xaca5b35400>,\n",
       "  <matplotlib.lines.Line2D at 0xaca5b35748>,\n",
       "  <matplotlib.lines.Line2D at 0xaca5b3fb38>,\n",
       "  <matplotlib.lines.Line2D at 0xaca5b3fe80>],\n",
       " 'caps': [<matplotlib.lines.Line2D at 0xac9e601710>,\n",
       "  <matplotlib.lines.Line2D at 0xac9e601a58>,\n",
       "  <matplotlib.lines.Line2D at 0xac9e60de80>,\n",
       "  <matplotlib.lines.Line2D at 0xac9e60df60>,\n",
       "  <matplotlib.lines.Line2D at 0xaca5af05f8>,\n",
       "  <matplotlib.lines.Line2D at 0xaca5af0940>,\n",
       "  <matplotlib.lines.Line2D at 0xaca5afbd30>,\n",
       "  <matplotlib.lines.Line2D at 0xaca5afbe10>,\n",
       "  <matplotlib.lines.Line2D at 0xaca5b0e4a8>,\n",
       "  <matplotlib.lines.Line2D at 0xaca5b0e7f0>,\n",
       "  <matplotlib.lines.Line2D at 0xaca5b18be0>,\n",
       "  <matplotlib.lines.Line2D at 0xaca5b18f28>,\n",
       "  <matplotlib.lines.Line2D at 0xaca5b2b358>,\n",
       "  <matplotlib.lines.Line2D at 0xaca5b2b6a0>,\n",
       "  <matplotlib.lines.Line2D at 0xaca5b35a90>,\n",
       "  <matplotlib.lines.Line2D at 0xaca5b35dd8>,\n",
       "  <matplotlib.lines.Line2D at 0xaca5b3ff60>,\n",
       "  <matplotlib.lines.Line2D at 0xaca5b4a550>],\n",
       " 'boxes': [<matplotlib.lines.Line2D at 0xac9e5e9c18>,\n",
       "  <matplotlib.lines.Line2D at 0xac9e60d470>,\n",
       "  <matplotlib.lines.Line2D at 0xaca5ae8be0>,\n",
       "  <matplotlib.lines.Line2D at 0xaca5afb358>,\n",
       "  <matplotlib.lines.Line2D at 0xaca5b05a90>,\n",
       "  <matplotlib.lines.Line2D at 0xaca5b0ef28>,\n",
       "  <matplotlib.lines.Line2D at 0xaca5b22940>,\n",
       "  <matplotlib.lines.Line2D at 0xaca5b2bdd8>,\n",
       "  <matplotlib.lines.Line2D at 0xaca5b3f7f0>],\n",
       " 'medians': [<matplotlib.lines.Line2D at 0xac9e601da0>,\n",
       "  <matplotlib.lines.Line2D at 0xaca5ae8550>,\n",
       "  <matplotlib.lines.Line2D at 0xaca5af0c88>,\n",
       "  <matplotlib.lines.Line2D at 0xaca5b05400>,\n",
       "  <matplotlib.lines.Line2D at 0xaca5b0eb38>,\n",
       "  <matplotlib.lines.Line2D at 0xaca5b222b0>,\n",
       "  <matplotlib.lines.Line2D at 0xaca5b2b9e8>,\n",
       "  <matplotlib.lines.Line2D at 0xaca5b35eb8>,\n",
       "  <matplotlib.lines.Line2D at 0xaca5b4a898>],\n",
       " 'fliers': [<matplotlib.lines.Line2D at 0xac9e601cf8>,\n",
       "  <matplotlib.lines.Line2D at 0xaca5ae8898>,\n",
       "  <matplotlib.lines.Line2D at 0xaca5af0fd0>,\n",
       "  <matplotlib.lines.Line2D at 0xaca5b05748>,\n",
       "  <matplotlib.lines.Line2D at 0xaca5b0ee80>,\n",
       "  <matplotlib.lines.Line2D at 0xaca5b225f8>,\n",
       "  <matplotlib.lines.Line2D at 0xaca5b2bd30>,\n",
       "  <matplotlib.lines.Line2D at 0xaca5b3f4a8>,\n",
       "  <matplotlib.lines.Line2D at 0xaca5b4abe0>],\n",
       " 'means': []}"
      ]
     },
     "execution_count": 6,
     "metadata": {},
     "output_type": "execute_result"
    },
    {
     "data": {
      "image/png": "[encoded data removed]",
      "text/plain": [
       "<Figure size 432x288 with 1 Axes>"
      ]
     },
     "metadata": {
      "needs_background": "light"
     },
     "output_type": "display_data"
    }
   ],
   "source": [
    "plt.boxplot(X)"
   ]
  },
  {
   "cell_type": "code",
   "execution_count": 7,
   "metadata": {},
   "outputs": [
    {
     "data": {
      "text/plain": [
       "{'whiskers': [<matplotlib.lines.Line2D at 0xaca5bee828>,\n",
       "  <matplotlib.lines.Line2D at 0xaca5beeb70>],\n",
       " 'caps': [<matplotlib.lines.Line2D at 0xaca5beeeb8>,\n",
       "  <matplotlib.lines.Line2D at 0xaca5beef98>],\n",
       " 'boxes': [<matplotlib.lines.Line2D at 0xaca5bee438>],\n",
       " 'medians': [<matplotlib.lines.Line2D at 0xaca5bf9588>],\n",
       " 'fliers': [<matplotlib.lines.Line2D at 0xaca5bf98d0>],\n",
       " 'means': []}"
      ]
     },
     "execution_count": 7,
     "metadata": {},
     "output_type": "execute_result"
    },
    {
     "data": {
      "image/png": "[encoded data removed]",
      "text/plain": [
       "<Figure size 432x288 with 1 Axes>"
      ]
     },
     "metadata": {
      "needs_background": "light"
     },
     "output_type": "display_data"
    }
   ],
   "source": [
    "plt.boxplot(Y)"
   ]
  },
  {
   "cell_type": "code",
   "execution_count": 8,
   "metadata": {},
   "outputs": [
    {
     "data": {
      "text/plain": [
       "<matplotlib.axes._subplots.AxesSubplot at 0xaca5bee400>"
      ]
     },
     "execution_count": 8,
     "metadata": {},
     "output_type": "execute_result"
    },
    {
     "data": {
      "image/png": "[encoded data removed]",
      "text/plain": [
       "<Figure size 432x288 with 1 Axes>"
      ]
     },
     "metadata": {
      "needs_background": "light"
     },
     "output_type": "display_data"
    }
   ],
   "source": [
    "sns.distplot(Y)"
   ]
  },
  {
   "cell_type": "code",
   "execution_count": 9,
   "metadata": {},
   "outputs": [
    {
     "name": "stdout",
     "output_type": "stream",
     "text": [
      "WARNING:tensorflow:From c:\\users\\lenovo_pc\\appdata\\local\\programs\\python\\python37\\lib\\site-packages\\tensorflow\\python\\framework\\op_def_library.py:263: colocate_with (from tensorflow.python.framework.ops) is deprecated and will be removed in a future version.\n",
      "Instructions for updating:\n",
      "Colocations handled automatically by placer.\n"
     ]
    }
   ],
   "source": [
    "# Define the model\n",
    "model = Sequential()\n",
    "model.add(Dense(50, input_dim=9, activation='relu'))\n",
    "model.add(Dense(100, activation='relu'))\n",
    "model.add(Dense(50, activation='relu'))\n",
    "model.add(Dense(1, activation='linear'))"
   ]
  },
  {
   "cell_type": "code",
   "execution_count": 10,
   "metadata": {},
   "outputs": [],
   "source": [
    "#class myCallback(tf.keras.callbacks.Callback):\n",
    "#    def on_epoch_end(self, epoch, logs={}):\n",
    " #       if(logs.get('acc')>0.95):\n",
    "  #          print(\"\\nReached 95% accuracy so cancelling training!\")\n",
    "   #         self.model.stop_training = True\n",
    "\n",
    "#callbacks = myCallback()"
   ]
  },
  {
   "cell_type": "code",
   "execution_count": 11,
   "metadata": {},
   "outputs": [],
   "source": [
    "model.compile(loss='mean_squared_error', optimizer='adam')"
   ]
  },
  {
   "cell_type": "code",
   "execution_count": 12,
   "metadata": {},
   "outputs": [
    {
     "name": "stdout",
     "output_type": "stream",
     "text": [
      "WARNING:tensorflow:From c:\\users\\lenovo_pc\\appdata\\local\\programs\\python\\python37\\lib\\site-packages\\tensorflow\\python\\ops\\math_ops.py:3066: to_int32 (from tensorflow.python.ops.math_ops) is deprecated and will be removed in a future version.\n",
      "Instructions for updating:\n",
      "Use tf.cast instead.\n",
      "Epoch 1/50\n",
      " - 0s - loss: 0.0478\n",
      "Epoch 2/50\n",
      " - 0s - loss: 0.0070\n",
      "Epoch 3/50\n",
      " - 0s - loss: 0.0026\n",
      "Epoch 4/50\n",
      " - 0s - loss: 0.0013\n",
      "Epoch 5/50\n",
      " - 0s - loss: 6.5339e-04\n",
      "Epoch 6/50\n",
      " - 0s - loss: 3.4193e-04\n",
      "Epoch 7/50\n",
      " - 0s - loss: 2.3154e-04\n",
      "Epoch 8/50\n",
      " - 0s - loss: 1.5597e-04\n",
      "Epoch 9/50\n",
      " - 0s - loss: 1.2316e-04\n",
      "Epoch 10/50\n",
      " - 0s - loss: 1.0452e-04\n",
      "Epoch 11/50\n",
      " - 0s - loss: 7.6185e-05\n",
      "Epoch 12/50\n",
      " - 0s - loss: 6.7474e-05\n",
      "Epoch 13/50\n",
      " - 0s - loss: 6.7785e-05\n",
      "Epoch 14/50\n",
      " - 0s - loss: 5.8015e-05\n",
      "Epoch 15/50\n",
      " - 0s - loss: 4.8235e-05\n",
      "Epoch 16/50\n",
      " - 0s - loss: 4.7734e-05\n",
      "Epoch 17/50\n",
      " - 0s - loss: 4.3582e-05\n",
      "Epoch 18/50\n",
      " - 0s - loss: 3.6167e-05\n",
      "Epoch 19/50\n",
      " - 0s - loss: 4.1211e-05\n",
      "Epoch 20/50\n",
      " - 0s - loss: 4.0050e-05\n",
      "Epoch 21/50\n",
      " - 0s - loss: 3.9023e-05\n",
      "Epoch 22/50\n",
      " - 0s - loss: 3.4716e-05\n",
      "Epoch 23/50\n",
      " - 0s - loss: 3.1930e-05\n",
      "Epoch 24/50\n",
      " - 0s - loss: 3.5221e-05\n",
      "Epoch 25/50\n",
      " - 0s - loss: 3.4301e-05\n",
      "Epoch 26/50\n",
      " - 0s - loss: 2.4794e-05\n",
      "Epoch 27/50\n",
      " - 0s - loss: 2.7243e-05\n",
      "Epoch 28/50\n",
      " - 0s - loss: 2.7812e-05\n",
      "Epoch 29/50\n",
      " - 0s - loss: 3.2250e-05\n",
      "Epoch 30/50\n",
      " - 0s - loss: 2.4079e-05\n",
      "Epoch 31/50\n",
      " - 0s - loss: 2.1871e-05\n",
      "Epoch 32/50\n",
      " - 0s - loss: 2.4451e-05\n",
      "Epoch 33/50\n",
      " - 0s - loss: 2.3435e-05\n",
      "Epoch 34/50\n",
      " - 0s - loss: 2.5426e-05\n",
      "Epoch 35/50\n",
      " - 0s - loss: 2.0251e-05\n",
      "Epoch 36/50\n",
      " - 0s - loss: 2.3979e-05\n",
      "Epoch 37/50\n",
      " - 0s - loss: 2.2916e-05\n",
      "Epoch 38/50\n",
      " - 0s - loss: 2.4069e-05\n",
      "Epoch 39/50\n",
      " - 0s - loss: 2.3549e-05\n",
      "Epoch 40/50\n",
      " - 0s - loss: 2.4485e-05\n",
      "Epoch 41/50\n",
      " - 0s - loss: 3.8121e-05\n",
      "Epoch 42/50\n",
      " - 0s - loss: 2.3933e-05\n",
      "Epoch 43/50\n",
      " - 0s - loss: 2.1539e-05\n",
      "Epoch 44/50\n",
      " - 0s - loss: 1.8158e-05\n",
      "Epoch 45/50\n",
      " - 0s - loss: 1.7644e-05\n",
      "Epoch 46/50\n",
      " - 0s - loss: 3.1350e-05\n",
      "Epoch 47/50\n",
      " - 0s - loss: 1.9095e-05\n",
      "Epoch 48/50\n",
      " - 0s - loss: 1.8956e-05\n",
      "Epoch 49/50\n",
      " - 0s - loss: 2.3417e-05\n",
      "Epoch 50/50\n",
      " - 0s - loss: 2.0449e-05\n"
     ]
    },
    {
     "data": {
      "text/plain": [
       "<keras.callbacks.History at 0xaca5fb1d30>"
      ]
     },
     "execution_count": 12,
     "metadata": {},
     "output_type": "execute_result"
    }
   ],
   "source": [
    "# Train the model\n",
    "model.fit(\n",
    "    X,\n",
    "    Y,\n",
    "    epochs=50,\n",
    "    #callbacks=[callbacks],\n",
    "    shuffle=True,\n",
    "    verbose=2\n",
    ")"
   ]
  },
  {
   "cell_type": "code",
   "execution_count": 13,
   "metadata": {},
   "outputs": [],
   "source": [
    "test_data_df = pd.read_csv(\"sales_data_test_scaled.csv\")\n"
   ]
  },
  {
   "cell_type": "code",
   "execution_count": 14,
   "metadata": {},
   "outputs": [],
   "source": [
    "X_test = test_data_df.drop('total_earnings', axis=1).values\n",
    "Y_test = test_data_df[['total_earnings']].values"
   ]
  },
  {
   "cell_type": "code",
   "execution_count": 15,
   "metadata": {},
   "outputs": [
    {
     "data": {
      "text/plain": [
       "{'whiskers': [<matplotlib.lines.Line2D at 0xaca83bc828>,\n",
       "  <matplotlib.lines.Line2D at 0xaca83bcb70>,\n",
       "  <matplotlib.lines.Line2D at 0xaca83c9f60>,\n",
       "  <matplotlib.lines.Line2D at 0xaca83d12e8>,\n",
       "  <matplotlib.lines.Line2D at 0xaca83da6d8>,\n",
       "  <matplotlib.lines.Line2D at 0xaca83daa20>,\n",
       "  <matplotlib.lines.Line2D at 0xaca83e4e10>,\n",
       "  <matplotlib.lines.Line2D at 0xaca83e4ef0>,\n",
       "  <matplotlib.lines.Line2D at 0xaca83f8588>,\n",
       "  <matplotlib.lines.Line2D at 0xaca83f88d0>,\n",
       "  <matplotlib.lines.Line2D at 0xaca8401cc0>,\n",
       "  <matplotlib.lines.Line2D at 0xaca8401da0>,\n",
       "  <matplotlib.lines.Line2D at 0xaca8417438>,\n",
       "  <matplotlib.lines.Line2D at 0xaca8417780>,\n",
       "  <matplotlib.lines.Line2D at 0xaca8420b70>,\n",
       "  <matplotlib.lines.Line2D at 0xaca8420eb8>,\n",
       "  <matplotlib.lines.Line2D at 0xaca84332e8>,\n",
       "  <matplotlib.lines.Line2D at 0xaca8433668>],\n",
       " 'caps': [<matplotlib.lines.Line2D at 0xaca83bceb8>,\n",
       "  <matplotlib.lines.Line2D at 0xaca83bcf98>,\n",
       "  <matplotlib.lines.Line2D at 0xaca83d1630>,\n",
       "  <matplotlib.lines.Line2D at 0xaca83d1978>,\n",
       "  <matplotlib.lines.Line2D at 0xaca83dad68>,\n",
       "  <matplotlib.lines.Line2D at 0xaca83dae48>,\n",
       "  <matplotlib.lines.Line2D at 0xaca83ed4e0>,\n",
       "  <matplotlib.lines.Line2D at 0xaca83ed828>,\n",
       "  <matplotlib.lines.Line2D at 0xaca83f8c18>,\n",
       "  <matplotlib.lines.Line2D at 0xaca83f8f60>,\n",
       "  <matplotlib.lines.Line2D at 0xaca8409390>,\n",
       "  <matplotlib.lines.Line2D at 0xaca84096d8>,\n",
       "  <matplotlib.lines.Line2D at 0xaca8417ac8>,\n",
       "  <matplotlib.lines.Line2D at 0xaca8417e10>,\n",
       "  <matplotlib.lines.Line2D at 0xaca8420f98>,\n",
       "  <matplotlib.lines.Line2D at 0xaca8428588>,\n",
       "  <matplotlib.lines.Line2D at 0xaca8433978>,\n",
       "  <matplotlib.lines.Line2D at 0xaca8433cc0>],\n",
       " 'boxes': [<matplotlib.lines.Line2D at 0xaca83bc400>,\n",
       "  <matplotlib.lines.Line2D at 0xaca83c9c18>,\n",
       "  <matplotlib.lines.Line2D at 0xaca83da390>,\n",
       "  <matplotlib.lines.Line2D at 0xaca83e4ac8>,\n",
       "  <matplotlib.lines.Line2D at 0xaca83edf60>,\n",
       "  <matplotlib.lines.Line2D at 0xaca8401978>,\n",
       "  <matplotlib.lines.Line2D at 0xaca8409e10>,\n",
       "  <matplotlib.lines.Line2D at 0xaca8420828>,\n",
       "  <matplotlib.lines.Line2D at 0xaca8428f60>],\n",
       " 'medians': [<matplotlib.lines.Line2D at 0xaca83c9588>,\n",
       "  <matplotlib.lines.Line2D at 0xaca83d1cc0>,\n",
       "  <matplotlib.lines.Line2D at 0xaca83e4438>,\n",
       "  <matplotlib.lines.Line2D at 0xaca83edb70>,\n",
       "  <matplotlib.lines.Line2D at 0xaca84012e8>,\n",
       "  <matplotlib.lines.Line2D at 0xaca8409a20>,\n",
       "  <matplotlib.lines.Line2D at 0xaca8417ef0>,\n",
       "  <matplotlib.lines.Line2D at 0xaca84288d0>,\n",
       "  <matplotlib.lines.Line2D at 0xaca8433da0>],\n",
       " 'fliers': [<matplotlib.lines.Line2D at 0xaca83c98d0>,\n",
       "  <matplotlib.lines.Line2D at 0xaca83d1da0>,\n",
       "  <matplotlib.lines.Line2D at 0xaca83e4780>,\n",
       "  <matplotlib.lines.Line2D at 0xaca83edeb8>,\n",
       "  <matplotlib.lines.Line2D at 0xaca8401630>,\n",
       "  <matplotlib.lines.Line2D at 0xaca8409d68>,\n",
       "  <matplotlib.lines.Line2D at 0xaca84204e0>,\n",
       "  <matplotlib.lines.Line2D at 0xaca8428c18>,\n",
       "  <matplotlib.lines.Line2D at 0xaca843e390>],\n",
       " 'means': []}"
      ]
     },
     "execution_count": 15,
     "metadata": {},
     "output_type": "execute_result"
    },
    {
     "data": {
      "image/png": "[encoded data removed]",
      "text/plain": [
       "<Figure size 432x288 with 1 Axes>"
      ]
     },
     "metadata": {
      "needs_background": "light"
     },
     "output_type": "display_data"
    }
   ],
   "source": [
    "plt.boxplot(X_test)"
   ]
  },
  {
   "cell_type": "code",
   "execution_count": 16,
   "metadata": {},
   "outputs": [
    {
     "data": {
      "text/plain": [
       "<matplotlib.axes._subplots.AxesSubplot at 0xaca8472e48>"
      ]
     },
     "execution_count": 16,
     "metadata": {},
     "output_type": "execute_result"
    },
    {
     "data": {
      "image/png": "[encoded data removed]",
      "text/plain": [
       "<Figure size 432x288 with 1 Axes>"
      ]
     },
     "metadata": {
      "needs_background": "light"
     },
     "output_type": "display_data"
    }
   ],
   "source": [
    "sns.distplot(Y_test)"
   ]
  },
  {
   "cell_type": "code",
   "execution_count": 17,
   "metadata": {},
   "outputs": [],
   "source": [
    "test_error_rate = model.evaluate(X_test, Y_test, verbose=0)"
   ]
  },
  {
   "cell_type": "code",
   "execution_count": 18,
   "metadata": {},
   "outputs": [
    {
     "name": "stdout",
     "output_type": "stream",
     "text": [
      "The mean squared error (MSE) for the test data set is: 9.061983451829292e-05\n"
     ]
    }
   ],
   "source": [
    "print(\"The mean squared error (MSE) for the test data set is: {}\".format(test_error_rate))"
   ]
  },
  {
   "cell_type": "code",
   "execution_count": null,
   "metadata": {},
   "outputs": [],
   "source": []
  },
  {
   "cell_type": "code",
   "execution_count": null,
   "metadata": {},
   "outputs": [],
   "source": []
  }
 ],
 "metadata": {
  "kernelspec": {
   "display_name": "Python 3",
   "language": "python",
   "name": "python3"
  },
  "language_info": {
   "codemirror_mode": {
    "name": "ipython",
    "version": 3
   },
   "file_extension": ".py",
   "mimetype": "text/x-python",
   "name": "python",
   "nbconvert_exporter": "python",
   "pygments_lexer": "ipython3",
   "version": "3.7.0b1"
  }
 },
 "nbformat": 4,
 "nbformat_minor": 2
}
