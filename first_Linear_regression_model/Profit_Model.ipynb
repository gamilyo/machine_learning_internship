{
 "cells": [
  {
   "cell_type": "code",
   "execution_count": 1,
   "metadata": {},
   "outputs": [],
   "source": [
    "import numpy as np\n",
    "import matplotlib.pyplot as plt\n",
    "import pandas as pd\n",
    "import seaborn as sns"
   ]
  },
  {
   "cell_type": "code",
   "execution_count": 2,
   "metadata": {},
   "outputs": [
    {
     "data": {
      "text/html": [
       "<div>\n",
       "<style scoped>\n",
       "    .dataframe tbody tr th:only-of-type {\n",
       "        vertical-align: middle;\n",
       "    }\n",
       "\n",
       "    .dataframe tbody tr th {\n",
       "        vertical-align: top;\n",
       "    }\n",
       "\n",
       "    .dataframe thead th {\n",
       "        text-align: right;\n",
       "    }\n",
       "</style>\n",
       "<table border=\"1\" class=\"dataframe\">\n",
       "  <thead>\n",
       "    <tr style=\"text-align: right;\">\n",
       "      <th></th>\n",
       "      <th>R&amp;D Spend</th>\n",
       "      <th>Administration</th>\n",
       "      <th>Marketing Spend</th>\n",
       "      <th>State</th>\n",
       "      <th>Profit</th>\n",
       "    </tr>\n",
       "  </thead>\n",
       "  <tbody>\n",
       "    <tr>\n",
       "      <th>0</th>\n",
       "      <td>165349.20</td>\n",
       "      <td>136897.80</td>\n",
       "      <td>471784.10</td>\n",
       "      <td>New York</td>\n",
       "      <td>192261.83</td>\n",
       "    </tr>\n",
       "    <tr>\n",
       "      <th>1</th>\n",
       "      <td>162597.70</td>\n",
       "      <td>151377.59</td>\n",
       "      <td>443898.53</td>\n",
       "      <td>California</td>\n",
       "      <td>191792.06</td>\n",
       "    </tr>\n",
       "    <tr>\n",
       "      <th>2</th>\n",
       "      <td>153441.51</td>\n",
       "      <td>101145.55</td>\n",
       "      <td>407934.54</td>\n",
       "      <td>Florida</td>\n",
       "      <td>191050.39</td>\n",
       "    </tr>\n",
       "    <tr>\n",
       "      <th>3</th>\n",
       "      <td>144372.41</td>\n",
       "      <td>118671.85</td>\n",
       "      <td>383199.62</td>\n",
       "      <td>New York</td>\n",
       "      <td>182901.99</td>\n",
       "    </tr>\n",
       "    <tr>\n",
       "      <th>4</th>\n",
       "      <td>142107.34</td>\n",
       "      <td>91391.77</td>\n",
       "      <td>366168.42</td>\n",
       "      <td>Florida</td>\n",
       "      <td>166187.94</td>\n",
       "    </tr>\n",
       "  </tbody>\n",
       "</table>\n",
       "</div>"
      ],
      "text/plain": [
       "   R&D Spend  Administration  Marketing Spend       State     Profit\n",
       "0  165349.20       136897.80        471784.10    New York  192261.83\n",
       "1  162597.70       151377.59        443898.53  California  191792.06\n",
       "2  153441.51       101145.55        407934.54     Florida  191050.39\n",
       "3  144372.41       118671.85        383199.62    New York  182901.99\n",
       "4  142107.34        91391.77        366168.42     Florida  166187.94"
      ]
     },
     "execution_count": 2,
     "metadata": {},
     "output_type": "execute_result"
    }
   ],
   "source": [
    "dataset = pd.read_csv('C:/Users/lenovo_pc/Desktop/Multilinear Regression/data/50_Startups.csv',delimiter = \";\")\n",
    "dataset.head()"
   ]
  },
  {
   "cell_type": "code",
   "execution_count": 3,
   "metadata": {},
   "outputs": [
    {
     "name": "stdout",
     "output_type": "stream",
     "text": [
      "<class 'pandas.core.frame.DataFrame'>\n",
      "RangeIndex: 50 entries, 0 to 49\n",
      "Data columns (total 5 columns):\n",
      "R&D Spend          49 non-null float64\n",
      "Administration     49 non-null float64\n",
      "Marketing Spend    49 non-null float64\n",
      "State              50 non-null object\n",
      "Profit             50 non-null float64\n",
      "dtypes: float64(4), object(1)\n",
      "memory usage: 2.0+ KB\n"
     ]
    }
   ],
   "source": [
    "dataset.info()"
   ]
  },
  {
   "cell_type": "code",
   "execution_count": 4,
   "metadata": {},
   "outputs": [
    {
     "data": {
      "text/plain": [
       "<matplotlib.axes._subplots.AxesSubplot at 0xe9b8a578d0>"
      ]
     },
     "execution_count": 4,
     "metadata": {},
     "output_type": "execute_result"
    },
    {
     "data": {
      "image/png": "[encoded data removed]",
      "text/plain": [
       "<Figure size 432x288 with 1 Axes>"
      ]
     },
     "metadata": {
      "needs_background": "light"
     },
     "output_type": "display_data"
    }
   ],
   "source": [
    "dataset.plot.box()"
   ]
  },
  {
   "cell_type": "code",
   "execution_count": 5,
   "metadata": {},
   "outputs": [],
   "source": [
    "dataset = dataset.fillna(dataset.mean())"
   ]
  },
  {
   "cell_type": "code",
   "execution_count": 6,
   "metadata": {},
   "outputs": [
    {
     "name": "stdout",
     "output_type": "stream",
     "text": [
      "<class 'pandas.core.frame.DataFrame'>\n",
      "RangeIndex: 50 entries, 0 to 49\n",
      "Data columns (total 5 columns):\n",
      "R&D Spend          50 non-null float64\n",
      "Administration     50 non-null float64\n",
      "Marketing Spend    50 non-null float64\n",
      "State              50 non-null object\n",
      "Profit             50 non-null float64\n",
      "dtypes: float64(4), object(1)\n",
      "memory usage: 2.0+ KB\n"
     ]
    }
   ],
   "source": [
    "dataset.info()"
   ]
  },
  {
   "cell_type": "code",
   "execution_count": 7,
   "metadata": {},
   "outputs": [],
   "source": [
    "X = dataset.iloc[:,:-1]"
   ]
  },
  {
   "cell_type": "code",
   "execution_count": 8,
   "metadata": {},
   "outputs": [
    {
     "data": {
      "text/html": [
       "<div>\n",
       "<style scoped>\n",
       "    .dataframe tbody tr th:only-of-type {\n",
       "        vertical-align: middle;\n",
       "    }\n",
       "\n",
       "    .dataframe tbody tr th {\n",
       "        vertical-align: top;\n",
       "    }\n",
       "\n",
       "    .dataframe thead th {\n",
       "        text-align: right;\n",
       "    }\n",
       "</style>\n",
       "<table border=\"1\" class=\"dataframe\">\n",
       "  <thead>\n",
       "    <tr style=\"text-align: right;\">\n",
       "      <th></th>\n",
       "      <th>R&amp;D Spend</th>\n",
       "      <th>Administration</th>\n",
       "      <th>Marketing Spend</th>\n",
       "      <th>State</th>\n",
       "    </tr>\n",
       "  </thead>\n",
       "  <tbody>\n",
       "    <tr>\n",
       "      <th>0</th>\n",
       "      <td>165349.20</td>\n",
       "      <td>136897.80</td>\n",
       "      <td>471784.10</td>\n",
       "      <td>New York</td>\n",
       "    </tr>\n",
       "    <tr>\n",
       "      <th>1</th>\n",
       "      <td>162597.70</td>\n",
       "      <td>151377.59</td>\n",
       "      <td>443898.53</td>\n",
       "      <td>California</td>\n",
       "    </tr>\n",
       "    <tr>\n",
       "      <th>2</th>\n",
       "      <td>153441.51</td>\n",
       "      <td>101145.55</td>\n",
       "      <td>407934.54</td>\n",
       "      <td>Florida</td>\n",
       "    </tr>\n",
       "    <tr>\n",
       "      <th>3</th>\n",
       "      <td>144372.41</td>\n",
       "      <td>118671.85</td>\n",
       "      <td>383199.62</td>\n",
       "      <td>New York</td>\n",
       "    </tr>\n",
       "    <tr>\n",
       "      <th>4</th>\n",
       "      <td>142107.34</td>\n",
       "      <td>91391.77</td>\n",
       "      <td>366168.42</td>\n",
       "      <td>Florida</td>\n",
       "    </tr>\n",
       "  </tbody>\n",
       "</table>\n",
       "</div>"
      ],
      "text/plain": [
       "   R&D Spend  Administration  Marketing Spend       State\n",
       "0  165349.20       136897.80        471784.10    New York\n",
       "1  162597.70       151377.59        443898.53  California\n",
       "2  153441.51       101145.55        407934.54     Florida\n",
       "3  144372.41       118671.85        383199.62    New York\n",
       "4  142107.34        91391.77        366168.42     Florida"
      ]
     },
     "execution_count": 8,
     "metadata": {},
     "output_type": "execute_result"
    }
   ],
   "source": [
    "X.head()"
   ]
  },
  {
   "cell_type": "code",
   "execution_count": 9,
   "metadata": {},
   "outputs": [],
   "source": [
    "Y = dataset.iloc[:,-1]"
   ]
  },
  {
   "cell_type": "code",
   "execution_count": 10,
   "metadata": {},
   "outputs": [],
   "source": [
    "Y = Y.values.reshape(-1,1)"
   ]
  },
  {
   "cell_type": "code",
   "execution_count": 11,
   "metadata": {},
   "outputs": [],
   "source": [
    "Y = pd.DataFrame(Y)"
   ]
  },
  {
   "cell_type": "code",
   "execution_count": 12,
   "metadata": {},
   "outputs": [
    {
     "data": {
      "text/plain": [
       "(50, 1)"
      ]
     },
     "execution_count": 12,
     "metadata": {},
     "output_type": "execute_result"
    }
   ],
   "source": [
    "Y.shape"
   ]
  },
  {
   "cell_type": "code",
   "execution_count": 13,
   "metadata": {},
   "outputs": [
    {
     "name": "stderr",
     "output_type": "stream",
     "text": [
      "c:\\users\\lenovo_pc\\appdata\\local\\programs\\python\\python37\\lib\\site-packages\\sklearn\\preprocessing\\_encoders.py:371: FutureWarning: The handling of integer data will change in version 0.22. Currently, the categories are determined based on the range [0, max(values)], while in the future they will be determined based on the unique values.\n",
      "If you want the future behaviour and silence this warning, you can specify \"categories='auto'\".\n",
      "In case you used a LabelEncoder before this OneHotEncoder to convert the categories to integers, then you can now use the OneHotEncoder directly.\n",
      "  warnings.warn(msg, FutureWarning)\n",
      "c:\\users\\lenovo_pc\\appdata\\local\\programs\\python\\python37\\lib\\site-packages\\sklearn\\preprocessing\\_encoders.py:392: DeprecationWarning: The 'categorical_features' keyword is deprecated in version 0.20 and will be removed in 0.22. You can use the ColumnTransformer instead.\n",
      "  \"use the ColumnTransformer instead.\", DeprecationWarning)\n"
     ]
    },
    {
     "data": {
      "text/plain": [
       "(50, 6)"
      ]
     },
     "execution_count": 13,
     "metadata": {},
     "output_type": "execute_result"
    }
   ],
   "source": [
    "from sklearn.preprocessing import OneHotEncoder, LabelEncoder\n",
    "LE1 = LabelEncoder()\n",
    "X.State = LE1.fit_transform(X.State)\n",
    "OHE = OneHotEncoder(categorical_features = [3])\n",
    "X = OHE.fit_transform(X.values).toarray()\n",
    "X.shape"
   ]
  },
  {
   "cell_type": "code",
   "execution_count": 14,
   "metadata": {},
   "outputs": [
    {
     "data": {
      "text/html": [
       "<div>\n",
       "<style scoped>\n",
       "    .dataframe tbody tr th:only-of-type {\n",
       "        vertical-align: middle;\n",
       "    }\n",
       "\n",
       "    .dataframe tbody tr th {\n",
       "        vertical-align: top;\n",
       "    }\n",
       "\n",
       "    .dataframe thead th {\n",
       "        text-align: right;\n",
       "    }\n",
       "</style>\n",
       "<table border=\"1\" class=\"dataframe\">\n",
       "  <thead>\n",
       "    <tr style=\"text-align: right;\">\n",
       "      <th></th>\n",
       "      <th>0</th>\n",
       "      <th>2</th>\n",
       "      <th>3</th>\n",
       "      <th>4</th>\n",
       "      <th>5</th>\n",
       "    </tr>\n",
       "  </thead>\n",
       "  <tbody>\n",
       "    <tr>\n",
       "      <th>0</th>\n",
       "      <td>0.0</td>\n",
       "      <td>1.0</td>\n",
       "      <td>165349.20</td>\n",
       "      <td>136897.80</td>\n",
       "      <td>471784.10</td>\n",
       "    </tr>\n",
       "    <tr>\n",
       "      <th>1</th>\n",
       "      <td>1.0</td>\n",
       "      <td>0.0</td>\n",
       "      <td>162597.70</td>\n",
       "      <td>151377.59</td>\n",
       "      <td>443898.53</td>\n",
       "    </tr>\n",
       "    <tr>\n",
       "      <th>2</th>\n",
       "      <td>0.0</td>\n",
       "      <td>0.0</td>\n",
       "      <td>153441.51</td>\n",
       "      <td>101145.55</td>\n",
       "      <td>407934.54</td>\n",
       "    </tr>\n",
       "    <tr>\n",
       "      <th>3</th>\n",
       "      <td>0.0</td>\n",
       "      <td>1.0</td>\n",
       "      <td>144372.41</td>\n",
       "      <td>118671.85</td>\n",
       "      <td>383199.62</td>\n",
       "    </tr>\n",
       "    <tr>\n",
       "      <th>4</th>\n",
       "      <td>0.0</td>\n",
       "      <td>0.0</td>\n",
       "      <td>142107.34</td>\n",
       "      <td>91391.77</td>\n",
       "      <td>366168.42</td>\n",
       "    </tr>\n",
       "  </tbody>\n",
       "</table>\n",
       "</div>"
      ],
      "text/plain": [
       "     0    2          3          4          5\n",
       "0  0.0  1.0  165349.20  136897.80  471784.10\n",
       "1  1.0  0.0  162597.70  151377.59  443898.53\n",
       "2  0.0  0.0  153441.51  101145.55  407934.54\n",
       "3  0.0  1.0  144372.41  118671.85  383199.62\n",
       "4  0.0  0.0  142107.34   91391.77  366168.42"
      ]
     },
     "execution_count": 14,
     "metadata": {},
     "output_type": "execute_result"
    }
   ],
   "source": [
    "X = pd.DataFrame(X)\n",
    "X.head()\n",
    "X = X.drop([1],axis = 1)\n",
    "X.head()"
   ]
  },
  {
   "cell_type": "code",
   "execution_count": 15,
   "metadata": {},
   "outputs": [],
   "source": [
    "from sklearn.preprocessing import StandardScaler\n",
    "X_s = StandardScaler()\n",
    "Y_s = StandardScaler()\n",
    "X = X_s.fit_transform(X)\n",
    "Y = Y_s.fit_transform(Y)"
   ]
  },
  {
   "cell_type": "code",
   "execution_count": 16,
   "metadata": {},
   "outputs": [
    {
     "data": {
      "text/plain": [
       "{'whiskers': [<matplotlib.lines.Line2D at 0xe9bae709e8>,\n",
       "  <matplotlib.lines.Line2D at 0xe9bae70d30>,\n",
       "  <matplotlib.lines.Line2D at 0xe9bae7aeb8>,\n",
       "  <matplotlib.lines.Line2D at 0xe9bae854a8>,\n",
       "  <matplotlib.lines.Line2D at 0xe9bae8e898>,\n",
       "  <matplotlib.lines.Line2D at 0xe9bae8ebe0>,\n",
       "  <matplotlib.lines.Line2D at 0xe9bae99fd0>,\n",
       "  <matplotlib.lines.Line2D at 0xe9baea4358>,\n",
       "  <matplotlib.lines.Line2D at 0xe9baead748>,\n",
       "  <matplotlib.lines.Line2D at 0xe9baeada90>],\n",
       " 'caps': [<matplotlib.lines.Line2D at 0xe9bae70e10>,\n",
       "  <matplotlib.lines.Line2D at 0xe9bae7a400>,\n",
       "  <matplotlib.lines.Line2D at 0xe9bae857f0>,\n",
       "  <matplotlib.lines.Line2D at 0xe9bae85b38>,\n",
       "  <matplotlib.lines.Line2D at 0xe9bae8ef28>,\n",
       "  <matplotlib.lines.Line2D at 0xe9bae992b0>,\n",
       "  <matplotlib.lines.Line2D at 0xe9baea46a0>,\n",
       "  <matplotlib.lines.Line2D at 0xe9baea49e8>,\n",
       "  <matplotlib.lines.Line2D at 0xe9baeaddd8>,\n",
       "  <matplotlib.lines.Line2D at 0xe9baeadeb8>],\n",
       " 'boxes': [<matplotlib.lines.Line2D at 0xe9bae70630>,\n",
       "  <matplotlib.lines.Line2D at 0xe9bae7add8>,\n",
       "  <matplotlib.lines.Line2D at 0xe9bae8e550>,\n",
       "  <matplotlib.lines.Line2D at 0xe9bae99c88>,\n",
       "  <matplotlib.lines.Line2D at 0xe9baead400>],\n",
       " 'medians': [<matplotlib.lines.Line2D at 0xe9bae7a748>,\n",
       "  <matplotlib.lines.Line2D at 0xe9bae85e80>,\n",
       "  <matplotlib.lines.Line2D at 0xe9bae995f8>,\n",
       "  <matplotlib.lines.Line2D at 0xe9baea4d30>,\n",
       "  <matplotlib.lines.Line2D at 0xe9baeb64a8>],\n",
       " 'fliers': [<matplotlib.lines.Line2D at 0xe9bae7aa90>,\n",
       "  <matplotlib.lines.Line2D at 0xe9bae85f60>,\n",
       "  <matplotlib.lines.Line2D at 0xe9bae99940>,\n",
       "  <matplotlib.lines.Line2D at 0xe9baea4e10>,\n",
       "  <matplotlib.lines.Line2D at 0xe9baeb67f0>],\n",
       " 'means': []}"
      ]
     },
     "execution_count": 16,
     "metadata": {},
     "output_type": "execute_result"
    },
    {
     "data": {
      "image/png": "[encoded data removed]",
      "text/plain": [
       "<Figure size 432x288 with 1 Axes>"
      ]
     },
     "metadata": {
      "needs_background": "light"
     },
     "output_type": "display_data"
    }
   ],
   "source": [
    "plt.boxplot(X)\n"
   ]
  },
  {
   "cell_type": "code",
   "execution_count": 17,
   "metadata": {},
   "outputs": [
    {
     "data": {
      "text/html": [
       "<div>\n",
       "<style scoped>\n",
       "    .dataframe tbody tr th:only-of-type {\n",
       "        vertical-align: middle;\n",
       "    }\n",
       "\n",
       "    .dataframe tbody tr th {\n",
       "        vertical-align: top;\n",
       "    }\n",
       "\n",
       "    .dataframe thead th {\n",
       "        text-align: right;\n",
       "    }\n",
       "</style>\n",
       "<table border=\"1\" class=\"dataframe\">\n",
       "  <thead>\n",
       "    <tr style=\"text-align: right;\">\n",
       "      <th></th>\n",
       "      <th>0</th>\n",
       "      <th>1</th>\n",
       "      <th>2</th>\n",
       "      <th>3</th>\n",
       "      <th>4</th>\n",
       "    </tr>\n",
       "  </thead>\n",
       "  <tbody>\n",
       "    <tr>\n",
       "      <th>0</th>\n",
       "      <td>-0.717741</td>\n",
       "      <td>1.393261</td>\n",
       "      <td>2.011531</td>\n",
       "      <td>0.561826</td>\n",
       "      <td>2.187271</td>\n",
       "    </tr>\n",
       "    <tr>\n",
       "      <th>1</th>\n",
       "      <td>1.393261</td>\n",
       "      <td>-0.717741</td>\n",
       "      <td>1.950880</td>\n",
       "      <td>1.083894</td>\n",
       "      <td>1.949436</td>\n",
       "    </tr>\n",
       "    <tr>\n",
       "      <th>2</th>\n",
       "      <td>-0.717741</td>\n",
       "      <td>-0.717741</td>\n",
       "      <td>1.749052</td>\n",
       "      <td>-0.727219</td>\n",
       "      <td>1.642701</td>\n",
       "    </tr>\n",
       "    <tr>\n",
       "      <th>3</th>\n",
       "      <td>-0.717741</td>\n",
       "      <td>1.393261</td>\n",
       "      <td>1.549143</td>\n",
       "      <td>-0.095309</td>\n",
       "      <td>1.431738</td>\n",
       "    </tr>\n",
       "    <tr>\n",
       "      <th>4</th>\n",
       "      <td>-0.717741</td>\n",
       "      <td>-0.717741</td>\n",
       "      <td>1.499214</td>\n",
       "      <td>-1.078891</td>\n",
       "      <td>1.286479</td>\n",
       "    </tr>\n",
       "  </tbody>\n",
       "</table>\n",
       "</div>"
      ],
      "text/plain": [
       "          0         1         2         3         4\n",
       "0 -0.717741  1.393261  2.011531  0.561826  2.187271\n",
       "1  1.393261 -0.717741  1.950880  1.083894  1.949436\n",
       "2 -0.717741 -0.717741  1.749052 -0.727219  1.642701\n",
       "3 -0.717741  1.393261  1.549143 -0.095309  1.431738\n",
       "4 -0.717741 -0.717741  1.499214 -1.078891  1.286479"
      ]
     },
     "execution_count": 17,
     "metadata": {},
     "output_type": "execute_result"
    }
   ],
   "source": [
    "pd.DataFrame(X).head()"
   ]
  },
  {
   "cell_type": "code",
   "execution_count": 18,
   "metadata": {},
   "outputs": [
    {
     "data": {
      "text/plain": [
       "(array([-7.28857844e-16]),\n",
       " array([[ 0.01165348,  0.0059028 ,  0.89825659, -0.01282542,  0.10233165]]))"
      ]
     },
     "execution_count": 18,
     "metadata": {},
     "output_type": "execute_result"
    }
   ],
   "source": [
    "from sklearn.linear_model import LinearRegression\n",
    "regressor = LinearRegression()\n",
    "regressor.fit(X,Y)\n",
    "regressor.intercept_,regressor.coef_"
   ]
  },
  {
   "cell_type": "code",
   "execution_count": 19,
   "metadata": {},
   "outputs": [],
   "source": [
    "Y_pred_ss = regressor.predict(X)"
   ]
  },
  {
   "cell_type": "code",
   "execution_count": 20,
   "metadata": {},
   "outputs": [
    {
     "data": {
      "text/plain": [
       "array([[ 2.02335193],\n",
       "       [ 1.94997787],\n",
       "       [ 1.73592336],\n",
       "       [ 1.53912231],\n",
       "       [ 1.47956318],\n",
       "       [ 1.2826789 ],\n",
       "       [ 1.12190109],\n",
       "       [ 1.18379346],\n",
       "       [ 0.99091426],\n",
       "       [ 1.07107018],\n",
       "       [ 0.55525527],\n",
       "       [ 0.58194159],\n",
       "       [ 0.40619092],\n",
       "       [ 0.39242421],\n",
       "       [ 0.91487699],\n",
       "       [ 0.84031243],\n",
       "       [ 0.13225452],\n",
       "       [ 0.45472047],\n",
       "       [ 0.40974526],\n",
       "       [ 0.22902853],\n",
       "       [ 0.13094829],\n",
       "       [ 0.14357685],\n",
       "       [ 0.0622319 ],\n",
       "       [-0.0572547 ],\n",
       "       [ 0.00322066],\n",
       "       [-0.25065347],\n",
       "       [-0.06963646],\n",
       "       [ 0.07782308],\n",
       "       [-0.28501545],\n",
       "       [-0.27730158],\n",
       "       [-0.3579411 ],\n",
       "       [-0.38215075],\n",
       "       [-0.35092992],\n",
       "       [-0.00476635],\n",
       "       [-0.55660005],\n",
       "       [-0.54791354],\n",
       "       [-0.9271693 ],\n",
       "       [-0.56606172],\n",
       "       [-1.06729211],\n",
       "       [-0.70907454],\n",
       "       [-0.92156713],\n",
       "       [-0.95484344],\n",
       "       [-1.0341152 ],\n",
       "       [-1.31991599],\n",
       "       [-1.19463463],\n",
       "       [-1.63498506],\n",
       "       [-1.37969472],\n",
       "       [-1.64952499],\n",
       "       [-1.61223502],\n",
       "       [-1.60157029]])"
      ]
     },
     "execution_count": 20,
     "metadata": {},
     "output_type": "execute_result"
    }
   ],
   "source": [
    "Y_pred_ss\n"
   ]
  },
  {
   "cell_type": "code",
   "execution_count": 21,
   "metadata": {},
   "outputs": [
    {
     "data": {
      "text/plain": [
       "(0.051525672864348705, 0.22699267138907525)"
      ]
     },
     "execution_count": 21,
     "metadata": {},
     "output_type": "execute_result"
    }
   ],
   "source": [
    "import sklearn.metrics as eva\n",
    "eva.mean_squared_error(Y,Y_pred_ss),eva.mean_squared_error(Y,Y_pred_ss)**0.5"
   ]
  },
  {
   "cell_type": "code",
   "execution_count": 22,
   "metadata": {},
   "outputs": [
    {
     "data": {
      "text/plain": [
       "0.9484743271356513"
      ]
     },
     "execution_count": 22,
     "metadata": {},
     "output_type": "execute_result"
    }
   ],
   "source": [
    "eva.r2_score(Y,Y_pred_ss)"
   ]
  },
  {
   "cell_type": "code",
   "execution_count": 23,
   "metadata": {},
   "outputs": [
    {
     "data": {
      "text/plain": [
       "0.16516295062146985"
      ]
     },
     "execution_count": 23,
     "metadata": {},
     "output_type": "execute_result"
    }
   ],
   "source": [
    "eva.mean_absolute_error(Y,Y_pred_ss)"
   ]
  },
  {
   "cell_type": "code",
   "execution_count": 24,
   "metadata": {},
   "outputs": [
    {
     "data": {
      "text/plain": [
       "array([[192746.57208388],\n",
       "       [189818.86779033],\n",
       "       [181277.8608671 ],\n",
       "       [173425.28583892],\n",
       "       [171048.81230366],\n",
       "       [163192.91616057],\n",
       "       [156777.70761813],\n",
       "       [159247.28004318],\n",
       "       [151551.19131758],\n",
       "       [154749.49934714],\n",
       "       [134167.92586777],\n",
       "       [135232.73879216],\n",
       "       [128220.09686138],\n",
       "       [127670.79019987],\n",
       "       [148517.22171911],\n",
       "       [145542.01520073],\n",
       "       [117289.73770613],\n",
       "       [130156.47824364],\n",
       "       [128361.91861354],\n",
       "       [121151.12572813],\n",
       "       [117237.6177366 ],\n",
       "       [117741.51088745],\n",
       "       [114495.759464  ],\n",
       "       [109728.11462569],\n",
       "       [112141.14702199],\n",
       "       [102011.29420317],\n",
       "       [109234.0690816 ],\n",
       "       [115117.86432387],\n",
       "       [100640.2140353 ],\n",
       "       [100948.00570951],\n",
       "       [ 97730.4017188 ],\n",
       "       [ 96764.41034582],\n",
       "       [ 98010.1554337 ],\n",
       "       [111822.45674138],\n",
       "       [ 89803.69457774],\n",
       "       [ 90150.29568438],\n",
       "       [ 75017.58024316],\n",
       "       [ 89426.16378087],\n",
       "       [ 69426.52813137],\n",
       "       [ 83719.79728081],\n",
       "       [ 75241.11269093],\n",
       "       [ 73913.35199804],\n",
       "       [ 70750.32276958],\n",
       "       [ 59346.56216512],\n",
       "       [ 64345.42385591],\n",
       "       [ 46774.9651095 ],\n",
       "       [ 56961.32581629],\n",
       "       [ 46194.80593125],\n",
       "       [ 47682.71604755],\n",
       "       [ 48108.25028567]])"
      ]
     },
     "execution_count": 24,
     "metadata": {},
     "output_type": "execute_result"
    }
   ],
   "source": [
    "Y_s.inverse_transform(Y_pred_ss)"
   ]
  },
  {
   "cell_type": "code",
   "execution_count": null,
   "metadata": {},
   "outputs": [],
   "source": []
  },
  {
   "cell_type": "code",
   "execution_count": null,
   "metadata": {},
   "outputs": [],
   "source": []
  }
 ],
 "metadata": {
  "kernelspec": {
   "display_name": "Python 3",
   "language": "python",
   "name": "python3"
  },
  "language_info": {
   "codemirror_mode": {
    "name": "ipython",
    "version": 3
   },
   "file_extension": ".py",
   "mimetype": "text/x-python",
   "name": "python",
   "nbconvert_exporter": "python",
   "pygments_lexer": "ipython3",
   "version": "3.7.0b1"
  }
 },
 "nbformat": 4,
 "nbformat_minor": 2
}
